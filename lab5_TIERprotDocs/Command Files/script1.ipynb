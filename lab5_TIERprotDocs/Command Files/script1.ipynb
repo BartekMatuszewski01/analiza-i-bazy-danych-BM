{
 "cells": [
  {
   "cell_type": "code",
   "execution_count": 54,
   "metadata": {
    "collapsed": true,
    "pycharm": {
     "name": "#%%\n"
    }
   },
   "outputs": [
    {
     "data": {
      "text/plain": "     iso2  year   new_sp  new_sp_m04  new_sp_m514  new_sp_m014  new_sp_m1524  \\\n0      AD  1989      NaN         NaN          NaN          NaN           NaN   \n1      AD  1990      NaN         NaN          NaN          NaN           NaN   \n2      AD  1991      NaN         NaN          NaN          NaN           NaN   \n3      AD  1992      NaN         NaN          NaN          NaN           NaN   \n4      AD  1993     15.0         NaN          NaN          NaN           NaN   \n...   ...   ...      ...         ...          ...          ...           ...   \n5764   ZW  2004  14581.0         NaN          NaN        187.0         833.0   \n5765   ZW  2005  13155.0         NaN          NaN        210.0         837.0   \n5766   ZW  2006  12718.0         NaN          NaN        215.0         736.0   \n5767   ZW  2007  10583.0         6.0        132.0        138.0         500.0   \n5768   ZW  2008   9830.0         NaN          NaN        127.0         614.0   \n\n      new_sp_m2534  new_sp_m3544  new_sp_m4554  ...  new_sp_f04  new_sp_f514  \\\n0              NaN           NaN           NaN  ...         NaN          NaN   \n1              NaN           NaN           NaN  ...         NaN          NaN   \n2              NaN           NaN           NaN  ...         NaN          NaN   \n3              NaN           NaN           NaN  ...         NaN          NaN   \n4              NaN           NaN           NaN  ...         NaN          NaN   \n...            ...           ...           ...  ...         ...          ...   \n5764        2908.0        2298.0        1056.0  ...         NaN          NaN   \n5765        2264.0        1855.0         762.0  ...         NaN          NaN   \n5766        2391.0        1939.0         896.0  ...         NaN          NaN   \n5767        3693.0           0.0         716.0  ...         7.0        178.0   \n5768           0.0        3316.0         704.0  ...         NaN          NaN   \n\n      new_sp_f014  new_sp_f1524  new_sp_f2534  new_sp_f3544  new_sp_f4554  \\\n0             NaN           NaN           NaN           NaN           NaN   \n1             NaN           NaN           NaN           NaN           NaN   \n2             NaN           NaN           NaN           NaN           NaN   \n3             NaN           NaN           NaN           NaN           NaN   \n4             NaN           NaN           NaN           NaN           NaN   \n...           ...           ...           ...           ...           ...   \n5764        225.0        1140.0        2858.0        1565.0         622.0   \n5765        269.0        1136.0        2242.0        1255.0         578.0   \n5766        237.0        1020.0        2424.0        1355.0         632.0   \n5767        185.0         739.0        3311.0           0.0         553.0   \n5768        145.0         840.0           0.0        2890.0         467.0   \n\n      new_sp_f5564  new_sp_f65  new_sp_fu  \n0              NaN         NaN        NaN  \n1              NaN         NaN        NaN  \n2              NaN         NaN        NaN  \n3              NaN         NaN        NaN  \n4              NaN         NaN        NaN  \n...            ...         ...        ...  \n5764         214.0       111.0        NaN  \n5765         193.0       603.0        NaN  \n5766         230.0        96.0        NaN  \n5767         213.0        90.0        NaN  \n5768         174.0       105.0        0.0  \n\n[5769 rows x 23 columns]",
      "text/html": "<div>\n<style scoped>\n    .dataframe tbody tr th:only-of-type {\n        vertical-align: middle;\n    }\n\n    .dataframe tbody tr th {\n        vertical-align: top;\n    }\n\n    .dataframe thead th {\n        text-align: right;\n    }\n</style>\n<table border=\"1\" class=\"dataframe\">\n  <thead>\n    <tr style=\"text-align: right;\">\n      <th></th>\n      <th>iso2</th>\n      <th>year</th>\n      <th>new_sp</th>\n      <th>new_sp_m04</th>\n      <th>new_sp_m514</th>\n      <th>new_sp_m014</th>\n      <th>new_sp_m1524</th>\n      <th>new_sp_m2534</th>\n      <th>new_sp_m3544</th>\n      <th>new_sp_m4554</th>\n      <th>...</th>\n      <th>new_sp_f04</th>\n      <th>new_sp_f514</th>\n      <th>new_sp_f014</th>\n      <th>new_sp_f1524</th>\n      <th>new_sp_f2534</th>\n      <th>new_sp_f3544</th>\n      <th>new_sp_f4554</th>\n      <th>new_sp_f5564</th>\n      <th>new_sp_f65</th>\n      <th>new_sp_fu</th>\n    </tr>\n  </thead>\n  <tbody>\n    <tr>\n      <th>0</th>\n      <td>AD</td>\n      <td>1989</td>\n      <td>NaN</td>\n      <td>NaN</td>\n      <td>NaN</td>\n      <td>NaN</td>\n      <td>NaN</td>\n      <td>NaN</td>\n      <td>NaN</td>\n      <td>NaN</td>\n      <td>...</td>\n      <td>NaN</td>\n      <td>NaN</td>\n      <td>NaN</td>\n      <td>NaN</td>\n      <td>NaN</td>\n      <td>NaN</td>\n      <td>NaN</td>\n      <td>NaN</td>\n      <td>NaN</td>\n      <td>NaN</td>\n    </tr>\n    <tr>\n      <th>1</th>\n      <td>AD</td>\n      <td>1990</td>\n      <td>NaN</td>\n      <td>NaN</td>\n      <td>NaN</td>\n      <td>NaN</td>\n      <td>NaN</td>\n      <td>NaN</td>\n      <td>NaN</td>\n      <td>NaN</td>\n      <td>...</td>\n      <td>NaN</td>\n      <td>NaN</td>\n      <td>NaN</td>\n      <td>NaN</td>\n      <td>NaN</td>\n      <td>NaN</td>\n      <td>NaN</td>\n      <td>NaN</td>\n      <td>NaN</td>\n      <td>NaN</td>\n    </tr>\n    <tr>\n      <th>2</th>\n      <td>AD</td>\n      <td>1991</td>\n      <td>NaN</td>\n      <td>NaN</td>\n      <td>NaN</td>\n      <td>NaN</td>\n      <td>NaN</td>\n      <td>NaN</td>\n      <td>NaN</td>\n      <td>NaN</td>\n      <td>...</td>\n      <td>NaN</td>\n      <td>NaN</td>\n      <td>NaN</td>\n      <td>NaN</td>\n      <td>NaN</td>\n      <td>NaN</td>\n      <td>NaN</td>\n      <td>NaN</td>\n      <td>NaN</td>\n      <td>NaN</td>\n    </tr>\n    <tr>\n      <th>3</th>\n      <td>AD</td>\n      <td>1992</td>\n      <td>NaN</td>\n      <td>NaN</td>\n      <td>NaN</td>\n      <td>NaN</td>\n      <td>NaN</td>\n      <td>NaN</td>\n      <td>NaN</td>\n      <td>NaN</td>\n      <td>...</td>\n      <td>NaN</td>\n      <td>NaN</td>\n      <td>NaN</td>\n      <td>NaN</td>\n      <td>NaN</td>\n      <td>NaN</td>\n      <td>NaN</td>\n      <td>NaN</td>\n      <td>NaN</td>\n      <td>NaN</td>\n    </tr>\n    <tr>\n      <th>4</th>\n      <td>AD</td>\n      <td>1993</td>\n      <td>15.0</td>\n      <td>NaN</td>\n      <td>NaN</td>\n      <td>NaN</td>\n      <td>NaN</td>\n      <td>NaN</td>\n      <td>NaN</td>\n      <td>NaN</td>\n      <td>...</td>\n      <td>NaN</td>\n      <td>NaN</td>\n      <td>NaN</td>\n      <td>NaN</td>\n      <td>NaN</td>\n      <td>NaN</td>\n      <td>NaN</td>\n      <td>NaN</td>\n      <td>NaN</td>\n      <td>NaN</td>\n    </tr>\n    <tr>\n      <th>...</th>\n      <td>...</td>\n      <td>...</td>\n      <td>...</td>\n      <td>...</td>\n      <td>...</td>\n      <td>...</td>\n      <td>...</td>\n      <td>...</td>\n      <td>...</td>\n      <td>...</td>\n      <td>...</td>\n      <td>...</td>\n      <td>...</td>\n      <td>...</td>\n      <td>...</td>\n      <td>...</td>\n      <td>...</td>\n      <td>...</td>\n      <td>...</td>\n      <td>...</td>\n      <td>...</td>\n    </tr>\n    <tr>\n      <th>5764</th>\n      <td>ZW</td>\n      <td>2004</td>\n      <td>14581.0</td>\n      <td>NaN</td>\n      <td>NaN</td>\n      <td>187.0</td>\n      <td>833.0</td>\n      <td>2908.0</td>\n      <td>2298.0</td>\n      <td>1056.0</td>\n      <td>...</td>\n      <td>NaN</td>\n      <td>NaN</td>\n      <td>225.0</td>\n      <td>1140.0</td>\n      <td>2858.0</td>\n      <td>1565.0</td>\n      <td>622.0</td>\n      <td>214.0</td>\n      <td>111.0</td>\n      <td>NaN</td>\n    </tr>\n    <tr>\n      <th>5765</th>\n      <td>ZW</td>\n      <td>2005</td>\n      <td>13155.0</td>\n      <td>NaN</td>\n      <td>NaN</td>\n      <td>210.0</td>\n      <td>837.0</td>\n      <td>2264.0</td>\n      <td>1855.0</td>\n      <td>762.0</td>\n      <td>...</td>\n      <td>NaN</td>\n      <td>NaN</td>\n      <td>269.0</td>\n      <td>1136.0</td>\n      <td>2242.0</td>\n      <td>1255.0</td>\n      <td>578.0</td>\n      <td>193.0</td>\n      <td>603.0</td>\n      <td>NaN</td>\n    </tr>\n    <tr>\n      <th>5766</th>\n      <td>ZW</td>\n      <td>2006</td>\n      <td>12718.0</td>\n      <td>NaN</td>\n      <td>NaN</td>\n      <td>215.0</td>\n      <td>736.0</td>\n      <td>2391.0</td>\n      <td>1939.0</td>\n      <td>896.0</td>\n      <td>...</td>\n      <td>NaN</td>\n      <td>NaN</td>\n      <td>237.0</td>\n      <td>1020.0</td>\n      <td>2424.0</td>\n      <td>1355.0</td>\n      <td>632.0</td>\n      <td>230.0</td>\n      <td>96.0</td>\n      <td>NaN</td>\n    </tr>\n    <tr>\n      <th>5767</th>\n      <td>ZW</td>\n      <td>2007</td>\n      <td>10583.0</td>\n      <td>6.0</td>\n      <td>132.0</td>\n      <td>138.0</td>\n      <td>500.0</td>\n      <td>3693.0</td>\n      <td>0.0</td>\n      <td>716.0</td>\n      <td>...</td>\n      <td>7.0</td>\n      <td>178.0</td>\n      <td>185.0</td>\n      <td>739.0</td>\n      <td>3311.0</td>\n      <td>0.0</td>\n      <td>553.0</td>\n      <td>213.0</td>\n      <td>90.0</td>\n      <td>NaN</td>\n    </tr>\n    <tr>\n      <th>5768</th>\n      <td>ZW</td>\n      <td>2008</td>\n      <td>9830.0</td>\n      <td>NaN</td>\n      <td>NaN</td>\n      <td>127.0</td>\n      <td>614.0</td>\n      <td>0.0</td>\n      <td>3316.0</td>\n      <td>704.0</td>\n      <td>...</td>\n      <td>NaN</td>\n      <td>NaN</td>\n      <td>145.0</td>\n      <td>840.0</td>\n      <td>0.0</td>\n      <td>2890.0</td>\n      <td>467.0</td>\n      <td>174.0</td>\n      <td>105.0</td>\n      <td>0.0</td>\n    </tr>\n  </tbody>\n</table>\n<p>5769 rows × 23 columns</p>\n</div>"
     },
     "execution_count": 54,
     "metadata": {},
     "output_type": "execute_result"
    }
   ],
   "source": [
    "import pandas as pd\n",
    "import os.path\n",
    "\n",
    "turbecolosis = pd.read_csv('../Original Data/tb.csv')\n",
    "turbecolosis"
   ]
  },
  {
   "cell_type": "code",
   "execution_count": 42,
   "outputs": [],
   "source": [],
   "metadata": {
    "collapsed": false,
    "pycharm": {
     "name": "#%%\n"
    }
   }
  },
  {
   "cell_type": "code",
   "execution_count": 53,
   "outputs": [
    {
     "data": {
      "text/plain": "   iso2  year  new_sp  new_sp_m04  new_sp_m514  new_sp_m014  new_sp_m1524  \\\n0    AD  1989     NaN         NaN          NaN          NaN           NaN   \n1    AD  1990     NaN         NaN          NaN          NaN           NaN   \n2    AD  1991     NaN         NaN          NaN          NaN           NaN   \n3    AD  1992     NaN         NaN          NaN          NaN           NaN   \n4    AD  1993    15.0         NaN          NaN          NaN           NaN   \n5    AD  1994    24.0         NaN          NaN          NaN           NaN   \n6    AD  1996     8.0         NaN          NaN          0.0           0.0   \n7    AD  1997    17.0         NaN          NaN          0.0           0.0   \n8    AD  1998     1.0         NaN          NaN          0.0           0.0   \n9    AD  1999     4.0         NaN          NaN          0.0           0.0   \n10   AD  2000     1.0         NaN          NaN          0.0           0.0   \n11   AD  2001     3.0         NaN          NaN          0.0           NaN   \n12   AD  2002     2.0         NaN          NaN          0.0           0.0   \n13   AD  2003     7.0         NaN          NaN          0.0           0.0   \n14   AD  2004     3.0         NaN          NaN          0.0           0.0   \n15   AD  2005     5.0         0.0          0.0          0.0           0.0   \n16   AD  2006     8.0         0.0          0.0          0.0           1.0   \n17   AD  2007     2.0         NaN          NaN          NaN           NaN   \n18   AD  2008     3.0         0.0          0.0          0.0           0.0   \n\n    new_sp_m2534  new_sp_m3544  new_sp_m4554  ...  new_sp_f04  new_sp_f514  \\\n0            NaN           NaN           NaN  ...         NaN          NaN   \n1            NaN           NaN           NaN  ...         NaN          NaN   \n2            NaN           NaN           NaN  ...         NaN          NaN   \n3            NaN           NaN           NaN  ...         NaN          NaN   \n4            NaN           NaN           NaN  ...         NaN          NaN   \n5            NaN           NaN           NaN  ...         NaN          NaN   \n6            0.0           4.0           1.0  ...         NaN          NaN   \n7            1.0           2.0           2.0  ...         NaN          NaN   \n8            0.0           1.0           0.0  ...         NaN          NaN   \n9            0.0           1.0           1.0  ...         NaN          NaN   \n10           1.0           0.0           0.0  ...         NaN          NaN   \n11           NaN           2.0           1.0  ...         NaN          NaN   \n12           0.0           1.0           0.0  ...         NaN          NaN   \n13           0.0           1.0           2.0  ...         NaN          NaN   \n14           0.0           1.0           1.0  ...         NaN          NaN   \n15           1.0           1.0           0.0  ...         0.0          0.0   \n16           1.0           2.0           0.0  ...         0.0          0.0   \n17           NaN           NaN           NaN  ...         NaN          NaN   \n18           0.0           0.0           1.0  ...         0.0          0.0   \n\n    new_sp_f014  new_sp_f1524  new_sp_f2534  new_sp_f3544  new_sp_f4554  \\\n0           NaN           NaN           NaN           NaN           NaN   \n1           NaN           NaN           NaN           NaN           NaN   \n2           NaN           NaN           NaN           NaN           NaN   \n3           NaN           NaN           NaN           NaN           NaN   \n4           NaN           NaN           NaN           NaN           NaN   \n5           NaN           NaN           NaN           NaN           NaN   \n6           0.0           1.0           1.0           0.0           0.0   \n7           0.0           1.0           2.0           3.0           0.0   \n8           NaN           NaN           NaN           NaN           NaN   \n9           0.0           0.0           0.0           1.0           0.0   \n10          NaN           NaN           NaN           NaN           NaN   \n11          NaN           NaN           NaN           NaN           NaN   \n12          0.0           1.0           0.0           0.0           0.0   \n13          0.0           1.0           1.0           1.0           0.0   \n14          0.0           0.0           1.0           0.0           0.0   \n15          0.0           1.0           1.0           1.0           0.0   \n16          0.0           0.0           1.0           0.0           1.0   \n17          NaN           NaN           1.0           NaN           1.0   \n18          0.0           0.0           0.0           1.0           1.0   \n\n    new_sp_f5564  new_sp_f65  new_sp_fu  \n0            NaN         NaN        NaN  \n1            NaN         NaN        NaN  \n2            NaN         NaN        NaN  \n3            NaN         NaN        NaN  \n4            NaN         NaN        NaN  \n5            NaN         NaN        NaN  \n6            1.0         0.0        NaN  \n7            0.0         1.0        NaN  \n8            NaN         NaN        NaN  \n9            0.0         0.0        NaN  \n10           NaN         NaN        NaN  \n11           NaN         NaN        NaN  \n12           0.0         0.0        NaN  \n13           0.0         0.0        NaN  \n14           0.0         0.0        NaN  \n15           0.0         0.0        0.0  \n16           0.0         0.0        0.0  \n17           NaN         NaN        NaN  \n18           0.0         0.0        0.0  \n\n[19 rows x 23 columns]",
      "text/html": "<div>\n<style scoped>\n    .dataframe tbody tr th:only-of-type {\n        vertical-align: middle;\n    }\n\n    .dataframe tbody tr th {\n        vertical-align: top;\n    }\n\n    .dataframe thead th {\n        text-align: right;\n    }\n</style>\n<table border=\"1\" class=\"dataframe\">\n  <thead>\n    <tr style=\"text-align: right;\">\n      <th></th>\n      <th>iso2</th>\n      <th>year</th>\n      <th>new_sp</th>\n      <th>new_sp_m04</th>\n      <th>new_sp_m514</th>\n      <th>new_sp_m014</th>\n      <th>new_sp_m1524</th>\n      <th>new_sp_m2534</th>\n      <th>new_sp_m3544</th>\n      <th>new_sp_m4554</th>\n      <th>...</th>\n      <th>new_sp_f04</th>\n      <th>new_sp_f514</th>\n      <th>new_sp_f014</th>\n      <th>new_sp_f1524</th>\n      <th>new_sp_f2534</th>\n      <th>new_sp_f3544</th>\n      <th>new_sp_f4554</th>\n      <th>new_sp_f5564</th>\n      <th>new_sp_f65</th>\n      <th>new_sp_fu</th>\n    </tr>\n  </thead>\n  <tbody>\n    <tr>\n      <th>0</th>\n      <td>AD</td>\n      <td>1989</td>\n      <td>NaN</td>\n      <td>NaN</td>\n      <td>NaN</td>\n      <td>NaN</td>\n      <td>NaN</td>\n      <td>NaN</td>\n      <td>NaN</td>\n      <td>NaN</td>\n      <td>...</td>\n      <td>NaN</td>\n      <td>NaN</td>\n      <td>NaN</td>\n      <td>NaN</td>\n      <td>NaN</td>\n      <td>NaN</td>\n      <td>NaN</td>\n      <td>NaN</td>\n      <td>NaN</td>\n      <td>NaN</td>\n    </tr>\n    <tr>\n      <th>1</th>\n      <td>AD</td>\n      <td>1990</td>\n      <td>NaN</td>\n      <td>NaN</td>\n      <td>NaN</td>\n      <td>NaN</td>\n      <td>NaN</td>\n      <td>NaN</td>\n      <td>NaN</td>\n      <td>NaN</td>\n      <td>...</td>\n      <td>NaN</td>\n      <td>NaN</td>\n      <td>NaN</td>\n      <td>NaN</td>\n      <td>NaN</td>\n      <td>NaN</td>\n      <td>NaN</td>\n      <td>NaN</td>\n      <td>NaN</td>\n      <td>NaN</td>\n    </tr>\n    <tr>\n      <th>2</th>\n      <td>AD</td>\n      <td>1991</td>\n      <td>NaN</td>\n      <td>NaN</td>\n      <td>NaN</td>\n      <td>NaN</td>\n      <td>NaN</td>\n      <td>NaN</td>\n      <td>NaN</td>\n      <td>NaN</td>\n      <td>...</td>\n      <td>NaN</td>\n      <td>NaN</td>\n      <td>NaN</td>\n      <td>NaN</td>\n      <td>NaN</td>\n      <td>NaN</td>\n      <td>NaN</td>\n      <td>NaN</td>\n      <td>NaN</td>\n      <td>NaN</td>\n    </tr>\n    <tr>\n      <th>3</th>\n      <td>AD</td>\n      <td>1992</td>\n      <td>NaN</td>\n      <td>NaN</td>\n      <td>NaN</td>\n      <td>NaN</td>\n      <td>NaN</td>\n      <td>NaN</td>\n      <td>NaN</td>\n      <td>NaN</td>\n      <td>...</td>\n      <td>NaN</td>\n      <td>NaN</td>\n      <td>NaN</td>\n      <td>NaN</td>\n      <td>NaN</td>\n      <td>NaN</td>\n      <td>NaN</td>\n      <td>NaN</td>\n      <td>NaN</td>\n      <td>NaN</td>\n    </tr>\n    <tr>\n      <th>4</th>\n      <td>AD</td>\n      <td>1993</td>\n      <td>15.0</td>\n      <td>NaN</td>\n      <td>NaN</td>\n      <td>NaN</td>\n      <td>NaN</td>\n      <td>NaN</td>\n      <td>NaN</td>\n      <td>NaN</td>\n      <td>...</td>\n      <td>NaN</td>\n      <td>NaN</td>\n      <td>NaN</td>\n      <td>NaN</td>\n      <td>NaN</td>\n      <td>NaN</td>\n      <td>NaN</td>\n      <td>NaN</td>\n      <td>NaN</td>\n      <td>NaN</td>\n    </tr>\n    <tr>\n      <th>5</th>\n      <td>AD</td>\n      <td>1994</td>\n      <td>24.0</td>\n      <td>NaN</td>\n      <td>NaN</td>\n      <td>NaN</td>\n      <td>NaN</td>\n      <td>NaN</td>\n      <td>NaN</td>\n      <td>NaN</td>\n      <td>...</td>\n      <td>NaN</td>\n      <td>NaN</td>\n      <td>NaN</td>\n      <td>NaN</td>\n      <td>NaN</td>\n      <td>NaN</td>\n      <td>NaN</td>\n      <td>NaN</td>\n      <td>NaN</td>\n      <td>NaN</td>\n    </tr>\n    <tr>\n      <th>6</th>\n      <td>AD</td>\n      <td>1996</td>\n      <td>8.0</td>\n      <td>NaN</td>\n      <td>NaN</td>\n      <td>0.0</td>\n      <td>0.0</td>\n      <td>0.0</td>\n      <td>4.0</td>\n      <td>1.0</td>\n      <td>...</td>\n      <td>NaN</td>\n      <td>NaN</td>\n      <td>0.0</td>\n      <td>1.0</td>\n      <td>1.0</td>\n      <td>0.0</td>\n      <td>0.0</td>\n      <td>1.0</td>\n      <td>0.0</td>\n      <td>NaN</td>\n    </tr>\n    <tr>\n      <th>7</th>\n      <td>AD</td>\n      <td>1997</td>\n      <td>17.0</td>\n      <td>NaN</td>\n      <td>NaN</td>\n      <td>0.0</td>\n      <td>0.0</td>\n      <td>1.0</td>\n      <td>2.0</td>\n      <td>2.0</td>\n      <td>...</td>\n      <td>NaN</td>\n      <td>NaN</td>\n      <td>0.0</td>\n      <td>1.0</td>\n      <td>2.0</td>\n      <td>3.0</td>\n      <td>0.0</td>\n      <td>0.0</td>\n      <td>1.0</td>\n      <td>NaN</td>\n    </tr>\n    <tr>\n      <th>8</th>\n      <td>AD</td>\n      <td>1998</td>\n      <td>1.0</td>\n      <td>NaN</td>\n      <td>NaN</td>\n      <td>0.0</td>\n      <td>0.0</td>\n      <td>0.0</td>\n      <td>1.0</td>\n      <td>0.0</td>\n      <td>...</td>\n      <td>NaN</td>\n      <td>NaN</td>\n      <td>NaN</td>\n      <td>NaN</td>\n      <td>NaN</td>\n      <td>NaN</td>\n      <td>NaN</td>\n      <td>NaN</td>\n      <td>NaN</td>\n      <td>NaN</td>\n    </tr>\n    <tr>\n      <th>9</th>\n      <td>AD</td>\n      <td>1999</td>\n      <td>4.0</td>\n      <td>NaN</td>\n      <td>NaN</td>\n      <td>0.0</td>\n      <td>0.0</td>\n      <td>0.0</td>\n      <td>1.0</td>\n      <td>1.0</td>\n      <td>...</td>\n      <td>NaN</td>\n      <td>NaN</td>\n      <td>0.0</td>\n      <td>0.0</td>\n      <td>0.0</td>\n      <td>1.0</td>\n      <td>0.0</td>\n      <td>0.0</td>\n      <td>0.0</td>\n      <td>NaN</td>\n    </tr>\n    <tr>\n      <th>10</th>\n      <td>AD</td>\n      <td>2000</td>\n      <td>1.0</td>\n      <td>NaN</td>\n      <td>NaN</td>\n      <td>0.0</td>\n      <td>0.0</td>\n      <td>1.0</td>\n      <td>0.0</td>\n      <td>0.0</td>\n      <td>...</td>\n      <td>NaN</td>\n      <td>NaN</td>\n      <td>NaN</td>\n      <td>NaN</td>\n      <td>NaN</td>\n      <td>NaN</td>\n      <td>NaN</td>\n      <td>NaN</td>\n      <td>NaN</td>\n      <td>NaN</td>\n    </tr>\n    <tr>\n      <th>11</th>\n      <td>AD</td>\n      <td>2001</td>\n      <td>3.0</td>\n      <td>NaN</td>\n      <td>NaN</td>\n      <td>0.0</td>\n      <td>NaN</td>\n      <td>NaN</td>\n      <td>2.0</td>\n      <td>1.0</td>\n      <td>...</td>\n      <td>NaN</td>\n      <td>NaN</td>\n      <td>NaN</td>\n      <td>NaN</td>\n      <td>NaN</td>\n      <td>NaN</td>\n      <td>NaN</td>\n      <td>NaN</td>\n      <td>NaN</td>\n      <td>NaN</td>\n    </tr>\n    <tr>\n      <th>12</th>\n      <td>AD</td>\n      <td>2002</td>\n      <td>2.0</td>\n      <td>NaN</td>\n      <td>NaN</td>\n      <td>0.0</td>\n      <td>0.0</td>\n      <td>0.0</td>\n      <td>1.0</td>\n      <td>0.0</td>\n      <td>...</td>\n      <td>NaN</td>\n      <td>NaN</td>\n      <td>0.0</td>\n      <td>1.0</td>\n      <td>0.0</td>\n      <td>0.0</td>\n      <td>0.0</td>\n      <td>0.0</td>\n      <td>0.0</td>\n      <td>NaN</td>\n    </tr>\n    <tr>\n      <th>13</th>\n      <td>AD</td>\n      <td>2003</td>\n      <td>7.0</td>\n      <td>NaN</td>\n      <td>NaN</td>\n      <td>0.0</td>\n      <td>0.0</td>\n      <td>0.0</td>\n      <td>1.0</td>\n      <td>2.0</td>\n      <td>...</td>\n      <td>NaN</td>\n      <td>NaN</td>\n      <td>0.0</td>\n      <td>1.0</td>\n      <td>1.0</td>\n      <td>1.0</td>\n      <td>0.0</td>\n      <td>0.0</td>\n      <td>0.0</td>\n      <td>NaN</td>\n    </tr>\n    <tr>\n      <th>14</th>\n      <td>AD</td>\n      <td>2004</td>\n      <td>3.0</td>\n      <td>NaN</td>\n      <td>NaN</td>\n      <td>0.0</td>\n      <td>0.0</td>\n      <td>0.0</td>\n      <td>1.0</td>\n      <td>1.0</td>\n      <td>...</td>\n      <td>NaN</td>\n      <td>NaN</td>\n      <td>0.0</td>\n      <td>0.0</td>\n      <td>1.0</td>\n      <td>0.0</td>\n      <td>0.0</td>\n      <td>0.0</td>\n      <td>0.0</td>\n      <td>NaN</td>\n    </tr>\n    <tr>\n      <th>15</th>\n      <td>AD</td>\n      <td>2005</td>\n      <td>5.0</td>\n      <td>0.0</td>\n      <td>0.0</td>\n      <td>0.0</td>\n      <td>0.0</td>\n      <td>1.0</td>\n      <td>1.0</td>\n      <td>0.0</td>\n      <td>...</td>\n      <td>0.0</td>\n      <td>0.0</td>\n      <td>0.0</td>\n      <td>1.0</td>\n      <td>1.0</td>\n      <td>1.0</td>\n      <td>0.0</td>\n      <td>0.0</td>\n      <td>0.0</td>\n      <td>0.0</td>\n    </tr>\n    <tr>\n      <th>16</th>\n      <td>AD</td>\n      <td>2006</td>\n      <td>8.0</td>\n      <td>0.0</td>\n      <td>0.0</td>\n      <td>0.0</td>\n      <td>1.0</td>\n      <td>1.0</td>\n      <td>2.0</td>\n      <td>0.0</td>\n      <td>...</td>\n      <td>0.0</td>\n      <td>0.0</td>\n      <td>0.0</td>\n      <td>0.0</td>\n      <td>1.0</td>\n      <td>0.0</td>\n      <td>1.0</td>\n      <td>0.0</td>\n      <td>0.0</td>\n      <td>0.0</td>\n    </tr>\n    <tr>\n      <th>17</th>\n      <td>AD</td>\n      <td>2007</td>\n      <td>2.0</td>\n      <td>NaN</td>\n      <td>NaN</td>\n      <td>NaN</td>\n      <td>NaN</td>\n      <td>NaN</td>\n      <td>NaN</td>\n      <td>NaN</td>\n      <td>...</td>\n      <td>NaN</td>\n      <td>NaN</td>\n      <td>NaN</td>\n      <td>NaN</td>\n      <td>1.0</td>\n      <td>NaN</td>\n      <td>1.0</td>\n      <td>NaN</td>\n      <td>NaN</td>\n      <td>NaN</td>\n    </tr>\n    <tr>\n      <th>18</th>\n      <td>AD</td>\n      <td>2008</td>\n      <td>3.0</td>\n      <td>0.0</td>\n      <td>0.0</td>\n      <td>0.0</td>\n      <td>0.0</td>\n      <td>0.0</td>\n      <td>0.0</td>\n      <td>1.0</td>\n      <td>...</td>\n      <td>0.0</td>\n      <td>0.0</td>\n      <td>0.0</td>\n      <td>0.0</td>\n      <td>0.0</td>\n      <td>1.0</td>\n      <td>1.0</td>\n      <td>0.0</td>\n      <td>0.0</td>\n      <td>0.0</td>\n    </tr>\n  </tbody>\n</table>\n<p>19 rows × 23 columns</p>\n</div>"
     },
     "execution_count": 53,
     "metadata": {},
     "output_type": "execute_result"
    }
   ],
   "source": [
    "tb_ad = turbecolosis[turbecolosis['iso2'] == 'AD']\n",
    "tb_ad"
   ],
   "metadata": {
    "collapsed": false,
    "pycharm": {
     "name": "#%%\n"
    }
   }
  },
  {
   "cell_type": "code",
   "execution_count": 44,
   "outputs": [
    {
     "data": {
      "text/plain": "   iso2  year  new_sp\n0    AD  1989     NaN\n1    AD  1990     NaN\n2    AD  1991     NaN\n3    AD  1992     NaN\n4    AD  1993    15.0\n5    AD  1994    24.0\n6    AD  1996     8.0\n7    AD  1997    17.0\n8    AD  1998     1.0\n9    AD  1999     4.0\n10   AD  2000     1.0\n11   AD  2001     3.0\n12   AD  2002     2.0\n13   AD  2003     7.0\n14   AD  2004     3.0\n15   AD  2005     5.0\n16   AD  2006     8.0\n17   AD  2007     2.0\n18   AD  2008     3.0",
      "text/html": "<div>\n<style scoped>\n    .dataframe tbody tr th:only-of-type {\n        vertical-align: middle;\n    }\n\n    .dataframe tbody tr th {\n        vertical-align: top;\n    }\n\n    .dataframe thead th {\n        text-align: right;\n    }\n</style>\n<table border=\"1\" class=\"dataframe\">\n  <thead>\n    <tr style=\"text-align: right;\">\n      <th></th>\n      <th>iso2</th>\n      <th>year</th>\n      <th>new_sp</th>\n    </tr>\n  </thead>\n  <tbody>\n    <tr>\n      <th>0</th>\n      <td>AD</td>\n      <td>1989</td>\n      <td>NaN</td>\n    </tr>\n    <tr>\n      <th>1</th>\n      <td>AD</td>\n      <td>1990</td>\n      <td>NaN</td>\n    </tr>\n    <tr>\n      <th>2</th>\n      <td>AD</td>\n      <td>1991</td>\n      <td>NaN</td>\n    </tr>\n    <tr>\n      <th>3</th>\n      <td>AD</td>\n      <td>1992</td>\n      <td>NaN</td>\n    </tr>\n    <tr>\n      <th>4</th>\n      <td>AD</td>\n      <td>1993</td>\n      <td>15.0</td>\n    </tr>\n    <tr>\n      <th>5</th>\n      <td>AD</td>\n      <td>1994</td>\n      <td>24.0</td>\n    </tr>\n    <tr>\n      <th>6</th>\n      <td>AD</td>\n      <td>1996</td>\n      <td>8.0</td>\n    </tr>\n    <tr>\n      <th>7</th>\n      <td>AD</td>\n      <td>1997</td>\n      <td>17.0</td>\n    </tr>\n    <tr>\n      <th>8</th>\n      <td>AD</td>\n      <td>1998</td>\n      <td>1.0</td>\n    </tr>\n    <tr>\n      <th>9</th>\n      <td>AD</td>\n      <td>1999</td>\n      <td>4.0</td>\n    </tr>\n    <tr>\n      <th>10</th>\n      <td>AD</td>\n      <td>2000</td>\n      <td>1.0</td>\n    </tr>\n    <tr>\n      <th>11</th>\n      <td>AD</td>\n      <td>2001</td>\n      <td>3.0</td>\n    </tr>\n    <tr>\n      <th>12</th>\n      <td>AD</td>\n      <td>2002</td>\n      <td>2.0</td>\n    </tr>\n    <tr>\n      <th>13</th>\n      <td>AD</td>\n      <td>2003</td>\n      <td>7.0</td>\n    </tr>\n    <tr>\n      <th>14</th>\n      <td>AD</td>\n      <td>2004</td>\n      <td>3.0</td>\n    </tr>\n    <tr>\n      <th>15</th>\n      <td>AD</td>\n      <td>2005</td>\n      <td>5.0</td>\n    </tr>\n    <tr>\n      <th>16</th>\n      <td>AD</td>\n      <td>2006</td>\n      <td>8.0</td>\n    </tr>\n    <tr>\n      <th>17</th>\n      <td>AD</td>\n      <td>2007</td>\n      <td>2.0</td>\n    </tr>\n    <tr>\n      <th>18</th>\n      <td>AD</td>\n      <td>2008</td>\n      <td>3.0</td>\n    </tr>\n  </tbody>\n</table>\n</div>"
     },
     "execution_count": 44,
     "metadata": {},
     "output_type": "execute_result"
    }
   ],
   "source": [
    "\n",
    "tb_ad[['iso2', 'year', 'new_sp']]"
   ],
   "metadata": {
    "collapsed": false,
    "pycharm": {
     "name": "#%%\n"
    }
   }
  },
  {
   "cell_type": "code",
   "execution_count": null,
   "outputs": [],
   "source": [
    "tab = tb_ad[['iso2', 'year', 'new_sp']]\n"
   ],
   "metadata": {
    "collapsed": false,
    "pycharm": {
     "name": "#%%\n"
    }
   }
  },
  {
   "cell_type": "code",
   "execution_count": 45,
   "outputs": [
    {
     "data": {
      "text/plain": "Index(['new_sp', 'new_sp_m04', 'new_sp_m514', 'new_sp_m014', 'new_sp_m1524',\n       'new_sp_m2534', 'new_sp_m3544', 'new_sp_m4554', 'new_sp_m5564',\n       'new_sp_m65', 'new_sp_mu', 'new_sp_f04', 'new_sp_f514', 'new_sp_f014',\n       'new_sp_f1524', 'new_sp_f2534', 'new_sp_f3544', 'new_sp_f4554',\n       'new_sp_f5564', 'new_sp_f65', 'new_sp_fu'],\n      dtype='object')"
     },
     "execution_count": 45,
     "metadata": {},
     "output_type": "execute_result"
    }
   ],
   "source": [
    "tb_ad.columns[2:]"
   ],
   "metadata": {
    "collapsed": false,
    "pycharm": {
     "name": "#%%\n"
    }
   }
  },
  {
   "cell_type": "code",
   "execution_count": 55,
   "outputs": [
    {
     "data": {
      "text/plain": "{'AD',\n 'AE',\n 'AF',\n 'AG',\n 'AI',\n 'AL',\n 'AM',\n 'AN',\n 'AO',\n 'AR',\n 'AS',\n 'AT',\n 'AU',\n 'AZ',\n 'BA',\n 'BB',\n 'BD',\n 'BE',\n 'BF',\n 'BG',\n 'BH',\n 'BI',\n 'BJ',\n 'BM',\n 'BN',\n 'BO',\n 'BR',\n 'BS',\n 'BT',\n 'BW',\n 'BY',\n 'BZ',\n 'CA',\n 'CD',\n 'CF',\n 'CG',\n 'CH',\n 'CI',\n 'CK',\n 'CL',\n 'CM',\n 'CN',\n 'CO',\n 'CR',\n 'CU',\n 'CV',\n 'CY',\n 'CZ',\n 'DE',\n 'DJ',\n 'DK',\n 'DM',\n 'DO',\n 'DZ',\n 'EC',\n 'EE',\n 'EG',\n 'ER',\n 'ES',\n 'ET',\n 'FI',\n 'FJ',\n 'FM',\n 'FR',\n 'GA',\n 'GB',\n 'GD',\n 'GE',\n 'GH',\n 'GM',\n 'GN',\n 'GQ',\n 'GR',\n 'GT',\n 'GU',\n 'GW',\n 'GY',\n 'HK',\n 'HN',\n 'HR',\n 'HT',\n 'HU',\n 'ID',\n 'IE',\n 'IL',\n 'IN',\n 'IQ',\n 'IR',\n 'IS',\n 'IT',\n 'JM',\n 'JO',\n 'JP',\n 'KE',\n 'KG',\n 'KH',\n 'KI',\n 'KM',\n 'KN',\n 'KP',\n 'KR',\n 'KW',\n 'KY',\n 'KZ',\n 'LA',\n 'LB',\n 'LC',\n 'LK',\n 'LR',\n 'LS',\n 'LT',\n 'LU',\n 'LV',\n 'LY',\n 'MA',\n 'MC',\n 'MD',\n 'ME',\n 'MG',\n 'MH',\n 'MK',\n 'ML',\n 'MM',\n 'MN',\n 'MO',\n 'MP',\n 'MR',\n 'MS',\n 'MT',\n 'MU',\n 'MV',\n 'MW',\n 'MX',\n 'MY',\n 'MZ',\n 'NC',\n 'NE',\n 'NG',\n 'NI',\n 'NL',\n 'NO',\n 'NP',\n 'NR',\n 'NU',\n 'NZ',\n 'OM',\n 'PA',\n 'PE',\n 'PF',\n 'PG',\n 'PH',\n 'PK',\n 'PL',\n 'PR',\n 'PS',\n 'PT',\n 'PW',\n 'PY',\n 'QA',\n 'RO',\n 'RS',\n 'RU',\n 'RW',\n 'SA',\n 'SB',\n 'SC',\n 'SD',\n 'SE',\n 'SG',\n 'SI',\n 'SK',\n 'SL',\n 'SM',\n 'SN',\n 'SO',\n 'SR',\n 'ST',\n 'SV',\n 'SY',\n 'SZ',\n 'TC',\n 'TD',\n 'TG',\n 'TH',\n 'TJ',\n 'TK',\n 'TL',\n 'TM',\n 'TN',\n 'TO',\n 'TR',\n 'TT',\n 'TV',\n 'TZ',\n 'UA',\n 'UG',\n 'US',\n 'UY',\n 'UZ',\n 'VC',\n 'VE',\n 'VG',\n 'VI',\n 'VN',\n 'VU',\n 'WF',\n 'WS',\n 'YE',\n 'YU',\n 'ZA',\n 'ZM',\n 'ZW',\n nan}"
     },
     "execution_count": 55,
     "metadata": {},
     "output_type": "execute_result"
    }
   ],
   "source": [
    "tb_types = ['new_sp', 'new_sp_m04', 'new_sp_m514', 'new_sp_m014', 'new_sp_m1524',\n",
    "       'new_sp_m2534', 'new_sp_m3544', 'new_sp_m4554', 'new_sp_m5564',\n",
    "       'new_sp_m65', 'new_sp_mu', 'new_sp_f04', 'new_sp_f514', 'new_sp_f014',\n",
    "       'new_sp_f1524', 'new_sp_f2534', 'new_sp_f3544', 'new_sp_f4554',\n",
    "       'new_sp_f5564', 'new_sp_f65', 'new_sp_fu']\n",
    "\n",
    "iso_ver = set(turbecolosis['iso2'])\n",
    "\n",
    "# def tidyData():\n",
    "\n",
    "tb_ad[['iso2', 'year', 'new_sp']].to_csv(path_or_buf=\"../Analysis Data/tb_ad_new_sp.csv\")\n",
    "iso_ver"
   ],
   "metadata": {
    "collapsed": false,
    "pycharm": {
     "name": "#%%\n"
    }
   }
  },
  {
   "cell_type": "code",
   "execution_count": null,
   "outputs": [],
   "source": [],
   "metadata": {
    "collapsed": false,
    "pycharm": {
     "name": "#%%\n"
    }
   }
  }
 ],
 "metadata": {
  "kernelspec": {
   "display_name": "Python 3",
   "language": "python",
   "name": "python3"
  },
  "language_info": {
   "codemirror_mode": {
    "name": "ipython",
    "version": 2
   },
   "file_extension": ".py",
   "mimetype": "text/x-python",
   "name": "python",
   "nbconvert_exporter": "python",
   "pygments_lexer": "ipython2",
   "version": "2.7.6"
  }
 },
 "nbformat": 4,
 "nbformat_minor": 0
}