{
 "cells": [
  {
   "cell_type": "markdown",
   "source": [
    "Bartomiej Matuszewski, 405 693\n",
    "\n",
    "Ćwiczenie:\n",
    "\n",
    "Wykonaj zapytania za pomocą skryptów pythona:\n",
    "    1. Ile kategorii filmów mamy w wypożyczalni?\n",
    "    2. Wyświetl listę kategorii w kolejności alfabetycznej.\n",
    "    3. Znajdź najstarszy i najmłodszy film do wypożyczenia.\n",
    "    4. Ile wypożyczeń odbyło się między 2005-07-01 a 2005-08-01?\n",
    "    5. Ile wypożyczeń odbyło się między 2010-01-01 a 2011-02-01?\n",
    "    6. Znajdź największą płatność wypożyczenia.\n",
    "    7. Znajdź wszystkich klientów z Polski, Nigerii lub Bangladeszu.\n",
    "    8. Gdzie mieszkają członkowie personelu?\n",
    "    9. Ilu pracowników mieszka w Argentynie lub Hiszpanii?\n",
    "    10. Jakie kategorie filmów zostały wypożyczone przez klientów?\n",
    "    11. Znajdź wszystkie kategorie filmów wypożyczonych w Ameryce.\n",
    "    12. Znajdź wszystkie tytuły filmów, w których grał: Olympia Pfeiffer lub Julia Zellweger lub Ellen Presley\n"
   ],
   "metadata": {
    "collapsed": false,
    "pycharm": {
     "name": "#%% md\n"
    }
   }
  },
  {
   "cell_type": "markdown",
   "source": [
    "Dane do połączenia do bazy zdalnej\n",
    "\n",
    "- host: pgsql-196447.vipserv.org\n",
    "- port: 5432\n",
    "- login: wbauer_adb\n",
    "- hasło: adb2020\n",
    "- nazwa_bazy: wbauer_adb\n",
    "\n"
   ],
   "metadata": {
    "collapsed": false,
    "pycharm": {
     "name": "#%% md\n"
    }
   }
  },
  {
   "cell_type": "code",
   "execution_count": 18,
   "outputs": [],
   "source": [
    "from sqlalchemy import create_engine\n",
    "import pandas as pd\n",
    "import psycopg2 as pg\n",
    "\n",
    "host = \"pgsql-196447.vipserv.org\"\n",
    "port = 5432\n",
    "login = \"wbauer_adb\"\n",
    "haslo = \"adb2020\"\n",
    "nazwa_bd = \"wbauer_adb\"\n",
    "\n"
   ],
   "metadata": {
    "collapsed": false,
    "pycharm": {
     "name": "#%%\n"
    }
   }
  },
  {
   "cell_type": "markdown",
   "source": [
    "connection = pg.connect(host='localhost', port=5432, dbname='test', user='postgres', password='admin')\n"
   ],
   "metadata": {
    "collapsed": false,
    "pycharm": {
     "name": "#%% md\n"
    }
   }
  },
  {
   "cell_type": "code",
   "execution_count": 19,
   "outputs": [
    {
     "data": {
      "text/plain": "     city_id                city  country_id         last_update\n0          1  A Corua (La Corua)          87 2006-02-15 09:45:25\n1          2                Abha          82 2006-02-15 09:45:25\n2          3           Abu Dhabi         101 2006-02-15 09:45:25\n3          4                Acua          60 2006-02-15 09:45:25\n4          5               Adana          97 2006-02-15 09:45:25\n..       ...                 ...         ...                 ...\n595      596               Zaria          69 2006-02-15 09:45:25\n596      597        Zeleznogorsk          80 2006-02-15 09:45:25\n597      598         Zhezqazghan          51 2006-02-15 09:45:25\n598      599            Zhoushan          23 2006-02-15 09:45:25\n599      600          Ziguinchor          83 2006-02-15 09:45:25\n\n[600 rows x 4 columns]",
      "text/html": "<div>\n<style scoped>\n    .dataframe tbody tr th:only-of-type {\n        vertical-align: middle;\n    }\n\n    .dataframe tbody tr th {\n        vertical-align: top;\n    }\n\n    .dataframe thead th {\n        text-align: right;\n    }\n</style>\n<table border=\"1\" class=\"dataframe\">\n  <thead>\n    <tr style=\"text-align: right;\">\n      <th></th>\n      <th>city_id</th>\n      <th>city</th>\n      <th>country_id</th>\n      <th>last_update</th>\n    </tr>\n  </thead>\n  <tbody>\n    <tr>\n      <th>0</th>\n      <td>1</td>\n      <td>A Corua (La Corua)</td>\n      <td>87</td>\n      <td>2006-02-15 09:45:25</td>\n    </tr>\n    <tr>\n      <th>1</th>\n      <td>2</td>\n      <td>Abha</td>\n      <td>82</td>\n      <td>2006-02-15 09:45:25</td>\n    </tr>\n    <tr>\n      <th>2</th>\n      <td>3</td>\n      <td>Abu Dhabi</td>\n      <td>101</td>\n      <td>2006-02-15 09:45:25</td>\n    </tr>\n    <tr>\n      <th>3</th>\n      <td>4</td>\n      <td>Acua</td>\n      <td>60</td>\n      <td>2006-02-15 09:45:25</td>\n    </tr>\n    <tr>\n      <th>4</th>\n      <td>5</td>\n      <td>Adana</td>\n      <td>97</td>\n      <td>2006-02-15 09:45:25</td>\n    </tr>\n    <tr>\n      <th>...</th>\n      <td>...</td>\n      <td>...</td>\n      <td>...</td>\n      <td>...</td>\n    </tr>\n    <tr>\n      <th>595</th>\n      <td>596</td>\n      <td>Zaria</td>\n      <td>69</td>\n      <td>2006-02-15 09:45:25</td>\n    </tr>\n    <tr>\n      <th>596</th>\n      <td>597</td>\n      <td>Zeleznogorsk</td>\n      <td>80</td>\n      <td>2006-02-15 09:45:25</td>\n    </tr>\n    <tr>\n      <th>597</th>\n      <td>598</td>\n      <td>Zhezqazghan</td>\n      <td>51</td>\n      <td>2006-02-15 09:45:25</td>\n    </tr>\n    <tr>\n      <th>598</th>\n      <td>599</td>\n      <td>Zhoushan</td>\n      <td>23</td>\n      <td>2006-02-15 09:45:25</td>\n    </tr>\n    <tr>\n      <th>599</th>\n      <td>600</td>\n      <td>Ziguinchor</td>\n      <td>83</td>\n      <td>2006-02-15 09:45:25</td>\n    </tr>\n  </tbody>\n</table>\n<p>600 rows × 4 columns</p>\n</div>"
     },
     "execution_count": 19,
     "metadata": {},
     "output_type": "execute_result"
    }
   ],
   "source": [
    "connection = pg.connect(host=host, port=port, dbname=nazwa_bd, user=login, password=haslo)\n",
    "df = pd.read_sql('select * from city', con=connection)\n",
    "df"
   ],
   "metadata": {
    "collapsed": false,
    "pycharm": {
     "name": "#%%\n"
    }
   }
  },
  {
   "cell_type": "markdown",
   "source": [
    "1.Ile kategorii filmów mamy w wypożyczalni?"
   ],
   "metadata": {
    "collapsed": false,
    "pycharm": {
     "name": "#%% md\n"
    }
   }
  },
  {
   "cell_type": "code",
   "execution_count": 20,
   "outputs": [
    {
     "data": {
      "text/plain": "   count\n0     16",
      "text/html": "<div>\n<style scoped>\n    .dataframe tbody tr th:only-of-type {\n        vertical-align: middle;\n    }\n\n    .dataframe tbody tr th {\n        vertical-align: top;\n    }\n\n    .dataframe thead th {\n        text-align: right;\n    }\n</style>\n<table border=\"1\" class=\"dataframe\">\n  <thead>\n    <tr style=\"text-align: right;\">\n      <th></th>\n      <th>count</th>\n    </tr>\n  </thead>\n  <tbody>\n    <tr>\n      <th>0</th>\n      <td>16</td>\n    </tr>\n  </tbody>\n</table>\n</div>"
     },
     "execution_count": 20,
     "metadata": {},
     "output_type": "execute_result"
    }
   ],
   "source": [
    "\n",
    "str1 = \"\"\"\n",
    "select\n",
    "count(category.name)\n",
    "\n",
    "from\n",
    "category\n",
    "\n",
    "\"\"\"\n",
    "\n",
    "pd.read_sql(str1, connection)"
   ],
   "metadata": {
    "collapsed": false,
    "pycharm": {
     "name": "#%%\n"
    }
   }
  },
  {
   "cell_type": "markdown",
   "source": [
    "2.Wyświetl listę kategorii w kolejności alfabetycznej."
   ],
   "metadata": {
    "collapsed": false,
    "pycharm": {
     "name": "#%% md\n"
    }
   }
  },
  {
   "cell_type": "code",
   "execution_count": 21,
   "outputs": [
    {
     "data": {
      "text/plain": "           name\n0        Action\n1     Animation\n2      Children\n3      Classics\n4        Comedy\n5   Documentary\n6         Drama\n7        Family\n8       Foreign\n9         Games\n10       Horror\n11        Music\n12          New\n13       Sci-Fi\n14       Sports\n15       Travel",
      "text/html": "<div>\n<style scoped>\n    .dataframe tbody tr th:only-of-type {\n        vertical-align: middle;\n    }\n\n    .dataframe tbody tr th {\n        vertical-align: top;\n    }\n\n    .dataframe thead th {\n        text-align: right;\n    }\n</style>\n<table border=\"1\" class=\"dataframe\">\n  <thead>\n    <tr style=\"text-align: right;\">\n      <th></th>\n      <th>name</th>\n    </tr>\n  </thead>\n  <tbody>\n    <tr>\n      <th>0</th>\n      <td>Action</td>\n    </tr>\n    <tr>\n      <th>1</th>\n      <td>Animation</td>\n    </tr>\n    <tr>\n      <th>2</th>\n      <td>Children</td>\n    </tr>\n    <tr>\n      <th>3</th>\n      <td>Classics</td>\n    </tr>\n    <tr>\n      <th>4</th>\n      <td>Comedy</td>\n    </tr>\n    <tr>\n      <th>5</th>\n      <td>Documentary</td>\n    </tr>\n    <tr>\n      <th>6</th>\n      <td>Drama</td>\n    </tr>\n    <tr>\n      <th>7</th>\n      <td>Family</td>\n    </tr>\n    <tr>\n      <th>8</th>\n      <td>Foreign</td>\n    </tr>\n    <tr>\n      <th>9</th>\n      <td>Games</td>\n    </tr>\n    <tr>\n      <th>10</th>\n      <td>Horror</td>\n    </tr>\n    <tr>\n      <th>11</th>\n      <td>Music</td>\n    </tr>\n    <tr>\n      <th>12</th>\n      <td>New</td>\n    </tr>\n    <tr>\n      <th>13</th>\n      <td>Sci-Fi</td>\n    </tr>\n    <tr>\n      <th>14</th>\n      <td>Sports</td>\n    </tr>\n    <tr>\n      <th>15</th>\n      <td>Travel</td>\n    </tr>\n  </tbody>\n</table>\n</div>"
     },
     "execution_count": 21,
     "metadata": {},
     "output_type": "execute_result"
    }
   ],
   "source": [
    "pd.read_sql('select name from category order by name ASC ', connection)"
   ],
   "metadata": {
    "collapsed": false,
    "pycharm": {
     "name": "#%%\n"
    }
   }
  },
  {
   "cell_type": "markdown",
   "source": [
    "3.Znajdź najstarszy i najmłodszy film do wypożyczenia."
   ],
   "metadata": {
    "collapsed": false,
    "pycharm": {
     "name": "#%% md\n"
    }
   }
  },
  {
   "cell_type": "code",
   "execution_count": 22,
   "outputs": [
    {
     "data": {
      "text/plain": "   film_id      title                                        description  \\\n0     1000  Zorro Ark  A Intrepid Panorama of a Mad Scientist And a B...   \n\n   release_year  language_id  rental_duration  rental_rate  length  \\\n0          2006            1                3         4.99      50   \n\n   replacement_cost rating             last_update  \\\n0             18.99  NC-17 2013-05-26 14:50:58.951   \n\n                              special_features  \\\n0  [Trailers, Commentaries, Behind the Scenes]   \n\n                                            fulltext  \n0  'ark':2 'boy':12,17 'intrepid':4 'mad':8 'mona...  ",
      "text/html": "<div>\n<style scoped>\n    .dataframe tbody tr th:only-of-type {\n        vertical-align: middle;\n    }\n\n    .dataframe tbody tr th {\n        vertical-align: top;\n    }\n\n    .dataframe thead th {\n        text-align: right;\n    }\n</style>\n<table border=\"1\" class=\"dataframe\">\n  <thead>\n    <tr style=\"text-align: right;\">\n      <th></th>\n      <th>film_id</th>\n      <th>title</th>\n      <th>description</th>\n      <th>release_year</th>\n      <th>language_id</th>\n      <th>rental_duration</th>\n      <th>rental_rate</th>\n      <th>length</th>\n      <th>replacement_cost</th>\n      <th>rating</th>\n      <th>last_update</th>\n      <th>special_features</th>\n      <th>fulltext</th>\n    </tr>\n  </thead>\n  <tbody>\n    <tr>\n      <th>0</th>\n      <td>1000</td>\n      <td>Zorro Ark</td>\n      <td>A Intrepid Panorama of a Mad Scientist And a B...</td>\n      <td>2006</td>\n      <td>1</td>\n      <td>3</td>\n      <td>4.99</td>\n      <td>50</td>\n      <td>18.99</td>\n      <td>NC-17</td>\n      <td>2013-05-26 14:50:58.951</td>\n      <td>[Trailers, Commentaries, Behind the Scenes]</td>\n      <td>'ark':2 'boy':12,17 'intrepid':4 'mad':8 'mona...</td>\n    </tr>\n  </tbody>\n</table>\n</div>"
     },
     "execution_count": 22,
     "metadata": {},
     "output_type": "execute_result"
    }
   ],
   "source": [
    "str3a = \"\"\"\n",
    "SELECT\n",
    "*\n",
    "FROM\n",
    "film\n",
    "order by\n",
    "release_year DESC,\n",
    "film_id DESC\n",
    "limit 1\n",
    "\"\"\"\n",
    "df_first = pd.read_sql(str3a, connection)\n",
    "\n",
    "str3b = \"\"\"\n",
    "SELECT\n",
    "*\n",
    "FROM\n",
    "film\n",
    "order by\n",
    "release_year ASC,\n",
    "film_id ASC\n",
    "limit 1\n",
    "\"\"\"\n",
    "\n",
    "df_last = pd.read_sql(str3b, connection)\n",
    "\n",
    "df_first\n"
   ],
   "metadata": {
    "collapsed": false,
    "pycharm": {
     "name": "#%%\n"
    }
   }
  },
  {
   "cell_type": "code",
   "execution_count": 23,
   "outputs": [
    {
     "data": {
      "text/plain": "   film_id             title  \\\n0        1  Academy Dinosaur   \n\n                                         description  release_year  \\\n0  A Epic Drama of a Feminist And a Mad Scientist...          2006   \n\n   language_id  rental_duration  rental_rate  length  replacement_cost rating  \\\n0            1                6         0.99      86             20.99     PG   \n\n              last_update                     special_features  \\\n0 2013-05-26 14:50:58.951  [Deleted Scenes, Behind the Scenes]   \n\n                                            fulltext  \n0  'academi':1 'battl':15 'canadian':20 'dinosaur...  ",
      "text/html": "<div>\n<style scoped>\n    .dataframe tbody tr th:only-of-type {\n        vertical-align: middle;\n    }\n\n    .dataframe tbody tr th {\n        vertical-align: top;\n    }\n\n    .dataframe thead th {\n        text-align: right;\n    }\n</style>\n<table border=\"1\" class=\"dataframe\">\n  <thead>\n    <tr style=\"text-align: right;\">\n      <th></th>\n      <th>film_id</th>\n      <th>title</th>\n      <th>description</th>\n      <th>release_year</th>\n      <th>language_id</th>\n      <th>rental_duration</th>\n      <th>rental_rate</th>\n      <th>length</th>\n      <th>replacement_cost</th>\n      <th>rating</th>\n      <th>last_update</th>\n      <th>special_features</th>\n      <th>fulltext</th>\n    </tr>\n  </thead>\n  <tbody>\n    <tr>\n      <th>0</th>\n      <td>1</td>\n      <td>Academy Dinosaur</td>\n      <td>A Epic Drama of a Feminist And a Mad Scientist...</td>\n      <td>2006</td>\n      <td>1</td>\n      <td>6</td>\n      <td>0.99</td>\n      <td>86</td>\n      <td>20.99</td>\n      <td>PG</td>\n      <td>2013-05-26 14:50:58.951</td>\n      <td>[Deleted Scenes, Behind the Scenes]</td>\n      <td>'academi':1 'battl':15 'canadian':20 'dinosaur...</td>\n    </tr>\n  </tbody>\n</table>\n</div>"
     },
     "execution_count": 23,
     "metadata": {},
     "output_type": "execute_result"
    }
   ],
   "source": [
    "df_last"
   ],
   "metadata": {
    "collapsed": false,
    "pycharm": {
     "name": "#%%\n"
    }
   }
  },
  {
   "cell_type": "markdown",
   "source": [
    "4.Ile wypożyczeń odbyło się między 2005-07-01 a 2005-08-01?"
   ],
   "metadata": {
    "collapsed": false,
    "pycharm": {
     "name": "#%% md\n"
    }
   }
  },
  {
   "cell_type": "code",
   "execution_count": 24,
   "outputs": [
    {
     "data": {
      "text/plain": "   count\n0   6709",
      "text/html": "<div>\n<style scoped>\n    .dataframe tbody tr th:only-of-type {\n        vertical-align: middle;\n    }\n\n    .dataframe tbody tr th {\n        vertical-align: top;\n    }\n\n    .dataframe thead th {\n        text-align: right;\n    }\n</style>\n<table border=\"1\" class=\"dataframe\">\n  <thead>\n    <tr style=\"text-align: right;\">\n      <th></th>\n      <th>count</th>\n    </tr>\n  </thead>\n  <tbody>\n    <tr>\n      <th>0</th>\n      <td>6709</td>\n    </tr>\n  </tbody>\n</table>\n</div>"
     },
     "execution_count": 24,
     "metadata": {},
     "output_type": "execute_result"
    }
   ],
   "source": [
    "str4 = \"\"\"\n",
    "select\n",
    "count(rental_id)\n",
    "from\n",
    "rental\n",
    "where\n",
    "rental_date\n",
    "between\n",
    "'2005-07-01'\n",
    "and\n",
    "'2005-08-01'\n",
    "\"\"\"\n",
    "\n",
    "pd.read_sql(str4, connection)"
   ],
   "metadata": {
    "collapsed": false,
    "pycharm": {
     "name": "#%%\n"
    }
   }
  },
  {
   "cell_type": "markdown",
   "source": [
    "5.Ile wypożyczeń odbyło się między 2010-01-01 a 2011-02-01?"
   ],
   "metadata": {
    "collapsed": false,
    "pycharm": {
     "name": "#%% md\n"
    }
   }
  },
  {
   "cell_type": "code",
   "execution_count": 25,
   "outputs": [
    {
     "data": {
      "text/plain": "   count\n0      0",
      "text/html": "<div>\n<style scoped>\n    .dataframe tbody tr th:only-of-type {\n        vertical-align: middle;\n    }\n\n    .dataframe tbody tr th {\n        vertical-align: top;\n    }\n\n    .dataframe thead th {\n        text-align: right;\n    }\n</style>\n<table border=\"1\" class=\"dataframe\">\n  <thead>\n    <tr style=\"text-align: right;\">\n      <th></th>\n      <th>count</th>\n    </tr>\n  </thead>\n  <tbody>\n    <tr>\n      <th>0</th>\n      <td>0</td>\n    </tr>\n  </tbody>\n</table>\n</div>"
     },
     "execution_count": 25,
     "metadata": {},
     "output_type": "execute_result"
    }
   ],
   "source": [
    "str5 = \"\"\"\n",
    "select\n",
    "count(rental_id)\n",
    "from\n",
    "rental\n",
    "where\n",
    "rental_date\n",
    "between\n",
    "'2010-01-01'\n",
    "and\n",
    "'2011-02-01'\n",
    "\"\"\"\n",
    "\n",
    "pd.read_sql(str5, connection)"
   ],
   "metadata": {
    "collapsed": false,
    "pycharm": {
     "name": "#%%\n"
    }
   }
  },
  {
   "cell_type": "markdown",
   "source": [
    "6.Znajdź największą płatność wypożyczenia."
   ],
   "metadata": {
    "collapsed": false,
    "pycharm": {
     "name": "#%% md\n"
    }
   }
  },
  {
   "cell_type": "code",
   "execution_count": 26,
   "outputs": [
    {
     "data": {
      "text/plain": "   amount\n0   11.99",
      "text/html": "<div>\n<style scoped>\n    .dataframe tbody tr th:only-of-type {\n        vertical-align: middle;\n    }\n\n    .dataframe tbody tr th {\n        vertical-align: top;\n    }\n\n    .dataframe thead th {\n        text-align: right;\n    }\n</style>\n<table border=\"1\" class=\"dataframe\">\n  <thead>\n    <tr style=\"text-align: right;\">\n      <th></th>\n      <th>amount</th>\n    </tr>\n  </thead>\n  <tbody>\n    <tr>\n      <th>0</th>\n      <td>11.99</td>\n    </tr>\n  </tbody>\n</table>\n</div>"
     },
     "execution_count": 26,
     "metadata": {},
     "output_type": "execute_result"
    }
   ],
   "source": [
    "str6 = \"\"\"\n",
    "select\n",
    "amount\n",
    "from\n",
    "payment\n",
    "order by\n",
    "amount DESC\n",
    "limit 1\n",
    "\"\"\"\n",
    "\n",
    "pd.read_sql(str6, connection)"
   ],
   "metadata": {
    "collapsed": false,
    "pycharm": {
     "name": "#%%\n"
    }
   }
  },
  {
   "cell_type": "markdown",
   "source": [
    "7.Znajdź wszystkich klientów z Polski, Nigerii lub Bangladeszu."
   ],
   "metadata": {
    "collapsed": false,
    "pycharm": {
     "name": "#%% md\n"
    }
   }
  },
  {
   "cell_type": "code",
   "execution_count": 27,
   "outputs": [
    {
     "data": {
      "text/plain": "     country_id               country         last_update\n0             1           Afghanistan 2006-02-15 09:44:00\n1             2               Algeria 2006-02-15 09:44:00\n2             3        American Samoa 2006-02-15 09:44:00\n3             4                Angola 2006-02-15 09:44:00\n4             5              Anguilla 2006-02-15 09:44:00\n..          ...                   ...                 ...\n104         105               Vietnam 2006-02-15 09:44:00\n105         106  Virgin Islands, U.S. 2006-02-15 09:44:00\n106         107                 Yemen 2006-02-15 09:44:00\n107         108            Yugoslavia 2006-02-15 09:44:00\n108         109                Zambia 2006-02-15 09:44:00\n\n[109 rows x 3 columns]",
      "text/html": "<div>\n<style scoped>\n    .dataframe tbody tr th:only-of-type {\n        vertical-align: middle;\n    }\n\n    .dataframe tbody tr th {\n        vertical-align: top;\n    }\n\n    .dataframe thead th {\n        text-align: right;\n    }\n</style>\n<table border=\"1\" class=\"dataframe\">\n  <thead>\n    <tr style=\"text-align: right;\">\n      <th></th>\n      <th>country_id</th>\n      <th>country</th>\n      <th>last_update</th>\n    </tr>\n  </thead>\n  <tbody>\n    <tr>\n      <th>0</th>\n      <td>1</td>\n      <td>Afghanistan</td>\n      <td>2006-02-15 09:44:00</td>\n    </tr>\n    <tr>\n      <th>1</th>\n      <td>2</td>\n      <td>Algeria</td>\n      <td>2006-02-15 09:44:00</td>\n    </tr>\n    <tr>\n      <th>2</th>\n      <td>3</td>\n      <td>American Samoa</td>\n      <td>2006-02-15 09:44:00</td>\n    </tr>\n    <tr>\n      <th>3</th>\n      <td>4</td>\n      <td>Angola</td>\n      <td>2006-02-15 09:44:00</td>\n    </tr>\n    <tr>\n      <th>4</th>\n      <td>5</td>\n      <td>Anguilla</td>\n      <td>2006-02-15 09:44:00</td>\n    </tr>\n    <tr>\n      <th>...</th>\n      <td>...</td>\n      <td>...</td>\n      <td>...</td>\n    </tr>\n    <tr>\n      <th>104</th>\n      <td>105</td>\n      <td>Vietnam</td>\n      <td>2006-02-15 09:44:00</td>\n    </tr>\n    <tr>\n      <th>105</th>\n      <td>106</td>\n      <td>Virgin Islands, U.S.</td>\n      <td>2006-02-15 09:44:00</td>\n    </tr>\n    <tr>\n      <th>106</th>\n      <td>107</td>\n      <td>Yemen</td>\n      <td>2006-02-15 09:44:00</td>\n    </tr>\n    <tr>\n      <th>107</th>\n      <td>108</td>\n      <td>Yugoslavia</td>\n      <td>2006-02-15 09:44:00</td>\n    </tr>\n    <tr>\n      <th>108</th>\n      <td>109</td>\n      <td>Zambia</td>\n      <td>2006-02-15 09:44:00</td>\n    </tr>\n  </tbody>\n</table>\n<p>109 rows × 3 columns</p>\n</div>"
     },
     "execution_count": 27,
     "metadata": {},
     "output_type": "execute_result"
    }
   ],
   "source": [
    "str_test = \"\"\"\n",
    "select\n",
    "*\n",
    "from\n",
    "country\n",
    "\n",
    "\"\"\"\n",
    "\n",
    "pd.read_sql(str_test, connection)"
   ],
   "metadata": {
    "collapsed": false,
    "pycharm": {
     "name": "#%%\n"
    }
   }
  },
  {
   "cell_type": "code",
   "execution_count": 28,
   "outputs": [
    {
     "data": {
      "text/plain": "    customer_id  store_id first_name  last_name  \\\n0           284         1      Sonia    Gregory   \n1           318         1      Brian      Wyman   \n2           572         1     Sidney   Burleson   \n3           409         2     Rodney    Moeller   \n4           332         1    Stephen     Qualls   \n5           286         1      Velma      Lucas   \n6            80         1    Marilyn       Ross   \n7           198         2      Elsie     Kelley   \n8           103         1     Gladys   Hamilton   \n9           329         2      Frank   Waggoner   \n10          128         1   Marjorie     Tucker   \n11           18         2      Carol     Garcia   \n12          270         1       Leah     Curtis   \n13          501         1      Ruben      Geary   \n14          277         2       Olga    Jimenez   \n15          156         1     Bertha   Ferguson   \n16          280         2     Tracey    Barrett   \n17          250         2         Jo     Fowler   \n18          571         2    Johnnie   Chisholm   \n19          562         1    Wallace      Slone   \n20           21         1   Michelle      Clark   \n21          380         1    Russell    Brinson   \n22          558         1     Jimmie  Eggleston   \n23          232         2  Constance       Reid   \n\n                                  email  address_id  activebool create_date  \\\n0      sonia.gregory@sakilacustomer.org         289        True  2006-02-14   \n1        brian.wyman@sakilacustomer.org         323        True  2006-02-14   \n2    sidney.burleson@sakilacustomer.org         578        True  2006-02-14   \n3     rodney.moeller@sakilacustomer.org         414        True  2006-02-14   \n4     stephen.qualls@sakilacustomer.org         337        True  2006-02-14   \n5        velma.lucas@sakilacustomer.org         291        True  2006-02-14   \n6       marilyn.ross@sakilacustomer.org          84        True  2006-02-14   \n7       elsie.kelley@sakilacustomer.org         202        True  2006-02-14   \n8    gladys.hamilton@sakilacustomer.org         107        True  2006-02-14   \n9     frank.waggoner@sakilacustomer.org         334        True  2006-02-14   \n10   marjorie.tucker@sakilacustomer.org         132        True  2006-02-14   \n11      carol.garcia@sakilacustomer.org          22        True  2006-02-14   \n12       leah.curtis@sakilacustomer.org         275        True  2006-02-14   \n13       ruben.geary@sakilacustomer.org         506        True  2006-02-14   \n14      olga.jimenez@sakilacustomer.org         282        True  2006-02-14   \n15   bertha.ferguson@sakilacustomer.org         160        True  2006-02-14   \n16    tracey.barrett@sakilacustomer.org         285        True  2006-02-14   \n17         jo.fowler@sakilacustomer.org         254        True  2006-02-14   \n18  johnnie.chisholm@sakilacustomer.org         577        True  2006-02-14   \n19     wallace.slone@sakilacustomer.org         568        True  2006-02-14   \n20    michelle.clark@sakilacustomer.org          25        True  2006-02-14   \n21   russell.brinson@sakilacustomer.org         385        True  2006-02-14   \n22  jimmie.eggleston@sakilacustomer.org         564        True  2006-02-14   \n23    constance.reid@sakilacustomer.org         236        True  2006-02-14   \n\n               last_update  active  ...  postal_code         phone  \\\n0  2013-05-26 14:49:45.738       1  ...        75860  195003555232   \n1  2013-05-26 14:49:45.738       1  ...        25787  556100547674   \n2  2013-05-26 14:49:45.738       1  ...        86587  867287719310   \n3  2013-05-26 14:49:45.738       1  ...         7122  653436985797   \n4  2013-05-26 14:49:45.738       1  ...         1195   38988715447   \n5  2013-05-26 14:49:45.738       1  ...        22650  558236142492   \n6  2013-05-26 14:49:45.738       1  ...        20936  701457319790   \n7  2013-05-26 14:49:45.738       1  ...         1545  768481779568   \n8  2013-05-26 14:49:45.738       1  ...         3305  484292626944   \n9  2013-05-26 14:49:45.738       1  ...        64308  965273813662   \n10 2013-05-26 14:49:45.738       1  ...         4999  973047364353   \n11 2013-05-26 14:49:45.738       1  ...        43331  747791594069   \n12 2013-05-26 14:49:45.738       1  ...        83565  701767622697   \n13 2013-05-26 14:49:45.738       1  ...        16370   52709222667   \n14 2013-05-26 14:49:45.738       1  ...        55802  363982224739   \n15 2013-05-26 14:49:45.738       1  ...        21294  889538496300   \n16 2013-05-26 14:49:45.738       1  ...        36229   85059738746   \n17 2013-05-26 14:49:45.738       1  ...        98332  716256596301   \n18 2013-05-26 14:49:45.738       1  ...          943  770864062795   \n19 2013-05-26 14:49:45.738       1  ...        93655  946114054231   \n20 2013-05-26 14:49:45.738       1  ...        34418  892775750063   \n21 2013-05-26 14:49:45.738       1  ...        75442  821476736117   \n22 2013-05-26 14:49:45.738       0  ...        97271  970638808606   \n23 2013-05-26 14:49:45.738       1  ...        31390  588964509072   \n\n           last_update city_id             city country_id  \\\n0  2006-02-15 09:45:30      69       Benin City         69   \n1  2006-02-15 09:45:30      97        Bydgoszcz         76   \n2  2006-02-15 09:45:30     133      Czestochowa         76   \n3  2006-02-15 09:45:30     141        Deba Habe         69   \n4  2006-02-15 09:45:30     143            Dhaka         12   \n5  2006-02-15 09:45:30     152     Effon-Alaiye         69   \n6  2006-02-15 09:45:30     217              Ife         69   \n7  2006-02-15 09:45:30     218           Ikerre         69   \n8  2006-02-15 09:45:30     220           Ilorin         69   \n9  2006-02-15 09:45:30     234         Jamalpur         12   \n10 2006-02-15 09:45:30     236  Jastrzebie-Zdrj         76   \n11 2006-02-15 09:45:30     252           Kaduna         69   \n12 2006-02-15 09:45:30     255           Kalisz         76   \n13 2006-02-15 09:45:30     314           Lublin         76   \n14 2006-02-15 09:45:30     374        Ogbomosho         69   \n15 2006-02-15 09:45:30     381             Ondo         69   \n16 2006-02-15 09:45:30     389              Owo         69   \n17 2006-02-15 09:45:30     390              Oyo         69   \n18 2006-02-15 09:45:30     409            Plock         76   \n19 2006-02-15 09:45:30     488           Sokoto         69   \n20 2006-02-15 09:45:30     525          Tangail         12   \n21 2006-02-15 09:45:30     549            Tychy         76   \n22 2006-02-15 09:45:30     577          Wroclaw         76   \n23 2006-02-15 09:45:30     596            Zaria         69   \n\n           last_update country_id     country         last_update  \n0  2006-02-15 09:45:25         69     Nigeria 2006-02-15 09:44:00  \n1  2006-02-15 09:45:25         76      Poland 2006-02-15 09:44:00  \n2  2006-02-15 09:45:25         76      Poland 2006-02-15 09:44:00  \n3  2006-02-15 09:45:25         69     Nigeria 2006-02-15 09:44:00  \n4  2006-02-15 09:45:25         12  Bangladesh 2006-02-15 09:44:00  \n5  2006-02-15 09:45:25         69     Nigeria 2006-02-15 09:44:00  \n6  2006-02-15 09:45:25         69     Nigeria 2006-02-15 09:44:00  \n7  2006-02-15 09:45:25         69     Nigeria 2006-02-15 09:44:00  \n8  2006-02-15 09:45:25         69     Nigeria 2006-02-15 09:44:00  \n9  2006-02-15 09:45:25         12  Bangladesh 2006-02-15 09:44:00  \n10 2006-02-15 09:45:25         76      Poland 2006-02-15 09:44:00  \n11 2006-02-15 09:45:25         69     Nigeria 2006-02-15 09:44:00  \n12 2006-02-15 09:45:25         76      Poland 2006-02-15 09:44:00  \n13 2006-02-15 09:45:25         76      Poland 2006-02-15 09:44:00  \n14 2006-02-15 09:45:25         69     Nigeria 2006-02-15 09:44:00  \n15 2006-02-15 09:45:25         69     Nigeria 2006-02-15 09:44:00  \n16 2006-02-15 09:45:25         69     Nigeria 2006-02-15 09:44:00  \n17 2006-02-15 09:45:25         69     Nigeria 2006-02-15 09:44:00  \n18 2006-02-15 09:45:25         76      Poland 2006-02-15 09:44:00  \n19 2006-02-15 09:45:25         69     Nigeria 2006-02-15 09:44:00  \n20 2006-02-15 09:45:25         12  Bangladesh 2006-02-15 09:44:00  \n21 2006-02-15 09:45:25         76      Poland 2006-02-15 09:44:00  \n22 2006-02-15 09:45:25         76      Poland 2006-02-15 09:44:00  \n23 2006-02-15 09:45:25         69     Nigeria 2006-02-15 09:44:00  \n\n[24 rows x 25 columns]",
      "text/html": "<div>\n<style scoped>\n    .dataframe tbody tr th:only-of-type {\n        vertical-align: middle;\n    }\n\n    .dataframe tbody tr th {\n        vertical-align: top;\n    }\n\n    .dataframe thead th {\n        text-align: right;\n    }\n</style>\n<table border=\"1\" class=\"dataframe\">\n  <thead>\n    <tr style=\"text-align: right;\">\n      <th></th>\n      <th>customer_id</th>\n      <th>store_id</th>\n      <th>first_name</th>\n      <th>last_name</th>\n      <th>email</th>\n      <th>address_id</th>\n      <th>activebool</th>\n      <th>create_date</th>\n      <th>last_update</th>\n      <th>active</th>\n      <th>...</th>\n      <th>postal_code</th>\n      <th>phone</th>\n      <th>last_update</th>\n      <th>city_id</th>\n      <th>city</th>\n      <th>country_id</th>\n      <th>last_update</th>\n      <th>country_id</th>\n      <th>country</th>\n      <th>last_update</th>\n    </tr>\n  </thead>\n  <tbody>\n    <tr>\n      <th>0</th>\n      <td>284</td>\n      <td>1</td>\n      <td>Sonia</td>\n      <td>Gregory</td>\n      <td>sonia.gregory@sakilacustomer.org</td>\n      <td>289</td>\n      <td>True</td>\n      <td>2006-02-14</td>\n      <td>2013-05-26 14:49:45.738</td>\n      <td>1</td>\n      <td>...</td>\n      <td>75860</td>\n      <td>195003555232</td>\n      <td>2006-02-15 09:45:30</td>\n      <td>69</td>\n      <td>Benin City</td>\n      <td>69</td>\n      <td>2006-02-15 09:45:25</td>\n      <td>69</td>\n      <td>Nigeria</td>\n      <td>2006-02-15 09:44:00</td>\n    </tr>\n    <tr>\n      <th>1</th>\n      <td>318</td>\n      <td>1</td>\n      <td>Brian</td>\n      <td>Wyman</td>\n      <td>brian.wyman@sakilacustomer.org</td>\n      <td>323</td>\n      <td>True</td>\n      <td>2006-02-14</td>\n      <td>2013-05-26 14:49:45.738</td>\n      <td>1</td>\n      <td>...</td>\n      <td>25787</td>\n      <td>556100547674</td>\n      <td>2006-02-15 09:45:30</td>\n      <td>97</td>\n      <td>Bydgoszcz</td>\n      <td>76</td>\n      <td>2006-02-15 09:45:25</td>\n      <td>76</td>\n      <td>Poland</td>\n      <td>2006-02-15 09:44:00</td>\n    </tr>\n    <tr>\n      <th>2</th>\n      <td>572</td>\n      <td>1</td>\n      <td>Sidney</td>\n      <td>Burleson</td>\n      <td>sidney.burleson@sakilacustomer.org</td>\n      <td>578</td>\n      <td>True</td>\n      <td>2006-02-14</td>\n      <td>2013-05-26 14:49:45.738</td>\n      <td>1</td>\n      <td>...</td>\n      <td>86587</td>\n      <td>867287719310</td>\n      <td>2006-02-15 09:45:30</td>\n      <td>133</td>\n      <td>Czestochowa</td>\n      <td>76</td>\n      <td>2006-02-15 09:45:25</td>\n      <td>76</td>\n      <td>Poland</td>\n      <td>2006-02-15 09:44:00</td>\n    </tr>\n    <tr>\n      <th>3</th>\n      <td>409</td>\n      <td>2</td>\n      <td>Rodney</td>\n      <td>Moeller</td>\n      <td>rodney.moeller@sakilacustomer.org</td>\n      <td>414</td>\n      <td>True</td>\n      <td>2006-02-14</td>\n      <td>2013-05-26 14:49:45.738</td>\n      <td>1</td>\n      <td>...</td>\n      <td>7122</td>\n      <td>653436985797</td>\n      <td>2006-02-15 09:45:30</td>\n      <td>141</td>\n      <td>Deba Habe</td>\n      <td>69</td>\n      <td>2006-02-15 09:45:25</td>\n      <td>69</td>\n      <td>Nigeria</td>\n      <td>2006-02-15 09:44:00</td>\n    </tr>\n    <tr>\n      <th>4</th>\n      <td>332</td>\n      <td>1</td>\n      <td>Stephen</td>\n      <td>Qualls</td>\n      <td>stephen.qualls@sakilacustomer.org</td>\n      <td>337</td>\n      <td>True</td>\n      <td>2006-02-14</td>\n      <td>2013-05-26 14:49:45.738</td>\n      <td>1</td>\n      <td>...</td>\n      <td>1195</td>\n      <td>38988715447</td>\n      <td>2006-02-15 09:45:30</td>\n      <td>143</td>\n      <td>Dhaka</td>\n      <td>12</td>\n      <td>2006-02-15 09:45:25</td>\n      <td>12</td>\n      <td>Bangladesh</td>\n      <td>2006-02-15 09:44:00</td>\n    </tr>\n    <tr>\n      <th>5</th>\n      <td>286</td>\n      <td>1</td>\n      <td>Velma</td>\n      <td>Lucas</td>\n      <td>velma.lucas@sakilacustomer.org</td>\n      <td>291</td>\n      <td>True</td>\n      <td>2006-02-14</td>\n      <td>2013-05-26 14:49:45.738</td>\n      <td>1</td>\n      <td>...</td>\n      <td>22650</td>\n      <td>558236142492</td>\n      <td>2006-02-15 09:45:30</td>\n      <td>152</td>\n      <td>Effon-Alaiye</td>\n      <td>69</td>\n      <td>2006-02-15 09:45:25</td>\n      <td>69</td>\n      <td>Nigeria</td>\n      <td>2006-02-15 09:44:00</td>\n    </tr>\n    <tr>\n      <th>6</th>\n      <td>80</td>\n      <td>1</td>\n      <td>Marilyn</td>\n      <td>Ross</td>\n      <td>marilyn.ross@sakilacustomer.org</td>\n      <td>84</td>\n      <td>True</td>\n      <td>2006-02-14</td>\n      <td>2013-05-26 14:49:45.738</td>\n      <td>1</td>\n      <td>...</td>\n      <td>20936</td>\n      <td>701457319790</td>\n      <td>2006-02-15 09:45:30</td>\n      <td>217</td>\n      <td>Ife</td>\n      <td>69</td>\n      <td>2006-02-15 09:45:25</td>\n      <td>69</td>\n      <td>Nigeria</td>\n      <td>2006-02-15 09:44:00</td>\n    </tr>\n    <tr>\n      <th>7</th>\n      <td>198</td>\n      <td>2</td>\n      <td>Elsie</td>\n      <td>Kelley</td>\n      <td>elsie.kelley@sakilacustomer.org</td>\n      <td>202</td>\n      <td>True</td>\n      <td>2006-02-14</td>\n      <td>2013-05-26 14:49:45.738</td>\n      <td>1</td>\n      <td>...</td>\n      <td>1545</td>\n      <td>768481779568</td>\n      <td>2006-02-15 09:45:30</td>\n      <td>218</td>\n      <td>Ikerre</td>\n      <td>69</td>\n      <td>2006-02-15 09:45:25</td>\n      <td>69</td>\n      <td>Nigeria</td>\n      <td>2006-02-15 09:44:00</td>\n    </tr>\n    <tr>\n      <th>8</th>\n      <td>103</td>\n      <td>1</td>\n      <td>Gladys</td>\n      <td>Hamilton</td>\n      <td>gladys.hamilton@sakilacustomer.org</td>\n      <td>107</td>\n      <td>True</td>\n      <td>2006-02-14</td>\n      <td>2013-05-26 14:49:45.738</td>\n      <td>1</td>\n      <td>...</td>\n      <td>3305</td>\n      <td>484292626944</td>\n      <td>2006-02-15 09:45:30</td>\n      <td>220</td>\n      <td>Ilorin</td>\n      <td>69</td>\n      <td>2006-02-15 09:45:25</td>\n      <td>69</td>\n      <td>Nigeria</td>\n      <td>2006-02-15 09:44:00</td>\n    </tr>\n    <tr>\n      <th>9</th>\n      <td>329</td>\n      <td>2</td>\n      <td>Frank</td>\n      <td>Waggoner</td>\n      <td>frank.waggoner@sakilacustomer.org</td>\n      <td>334</td>\n      <td>True</td>\n      <td>2006-02-14</td>\n      <td>2013-05-26 14:49:45.738</td>\n      <td>1</td>\n      <td>...</td>\n      <td>64308</td>\n      <td>965273813662</td>\n      <td>2006-02-15 09:45:30</td>\n      <td>234</td>\n      <td>Jamalpur</td>\n      <td>12</td>\n      <td>2006-02-15 09:45:25</td>\n      <td>12</td>\n      <td>Bangladesh</td>\n      <td>2006-02-15 09:44:00</td>\n    </tr>\n    <tr>\n      <th>10</th>\n      <td>128</td>\n      <td>1</td>\n      <td>Marjorie</td>\n      <td>Tucker</td>\n      <td>marjorie.tucker@sakilacustomer.org</td>\n      <td>132</td>\n      <td>True</td>\n      <td>2006-02-14</td>\n      <td>2013-05-26 14:49:45.738</td>\n      <td>1</td>\n      <td>...</td>\n      <td>4999</td>\n      <td>973047364353</td>\n      <td>2006-02-15 09:45:30</td>\n      <td>236</td>\n      <td>Jastrzebie-Zdrj</td>\n      <td>76</td>\n      <td>2006-02-15 09:45:25</td>\n      <td>76</td>\n      <td>Poland</td>\n      <td>2006-02-15 09:44:00</td>\n    </tr>\n    <tr>\n      <th>11</th>\n      <td>18</td>\n      <td>2</td>\n      <td>Carol</td>\n      <td>Garcia</td>\n      <td>carol.garcia@sakilacustomer.org</td>\n      <td>22</td>\n      <td>True</td>\n      <td>2006-02-14</td>\n      <td>2013-05-26 14:49:45.738</td>\n      <td>1</td>\n      <td>...</td>\n      <td>43331</td>\n      <td>747791594069</td>\n      <td>2006-02-15 09:45:30</td>\n      <td>252</td>\n      <td>Kaduna</td>\n      <td>69</td>\n      <td>2006-02-15 09:45:25</td>\n      <td>69</td>\n      <td>Nigeria</td>\n      <td>2006-02-15 09:44:00</td>\n    </tr>\n    <tr>\n      <th>12</th>\n      <td>270</td>\n      <td>1</td>\n      <td>Leah</td>\n      <td>Curtis</td>\n      <td>leah.curtis@sakilacustomer.org</td>\n      <td>275</td>\n      <td>True</td>\n      <td>2006-02-14</td>\n      <td>2013-05-26 14:49:45.738</td>\n      <td>1</td>\n      <td>...</td>\n      <td>83565</td>\n      <td>701767622697</td>\n      <td>2006-02-15 09:45:30</td>\n      <td>255</td>\n      <td>Kalisz</td>\n      <td>76</td>\n      <td>2006-02-15 09:45:25</td>\n      <td>76</td>\n      <td>Poland</td>\n      <td>2006-02-15 09:44:00</td>\n    </tr>\n    <tr>\n      <th>13</th>\n      <td>501</td>\n      <td>1</td>\n      <td>Ruben</td>\n      <td>Geary</td>\n      <td>ruben.geary@sakilacustomer.org</td>\n      <td>506</td>\n      <td>True</td>\n      <td>2006-02-14</td>\n      <td>2013-05-26 14:49:45.738</td>\n      <td>1</td>\n      <td>...</td>\n      <td>16370</td>\n      <td>52709222667</td>\n      <td>2006-02-15 09:45:30</td>\n      <td>314</td>\n      <td>Lublin</td>\n      <td>76</td>\n      <td>2006-02-15 09:45:25</td>\n      <td>76</td>\n      <td>Poland</td>\n      <td>2006-02-15 09:44:00</td>\n    </tr>\n    <tr>\n      <th>14</th>\n      <td>277</td>\n      <td>2</td>\n      <td>Olga</td>\n      <td>Jimenez</td>\n      <td>olga.jimenez@sakilacustomer.org</td>\n      <td>282</td>\n      <td>True</td>\n      <td>2006-02-14</td>\n      <td>2013-05-26 14:49:45.738</td>\n      <td>1</td>\n      <td>...</td>\n      <td>55802</td>\n      <td>363982224739</td>\n      <td>2006-02-15 09:45:30</td>\n      <td>374</td>\n      <td>Ogbomosho</td>\n      <td>69</td>\n      <td>2006-02-15 09:45:25</td>\n      <td>69</td>\n      <td>Nigeria</td>\n      <td>2006-02-15 09:44:00</td>\n    </tr>\n    <tr>\n      <th>15</th>\n      <td>156</td>\n      <td>1</td>\n      <td>Bertha</td>\n      <td>Ferguson</td>\n      <td>bertha.ferguson@sakilacustomer.org</td>\n      <td>160</td>\n      <td>True</td>\n      <td>2006-02-14</td>\n      <td>2013-05-26 14:49:45.738</td>\n      <td>1</td>\n      <td>...</td>\n      <td>21294</td>\n      <td>889538496300</td>\n      <td>2006-02-15 09:45:30</td>\n      <td>381</td>\n      <td>Ondo</td>\n      <td>69</td>\n      <td>2006-02-15 09:45:25</td>\n      <td>69</td>\n      <td>Nigeria</td>\n      <td>2006-02-15 09:44:00</td>\n    </tr>\n    <tr>\n      <th>16</th>\n      <td>280</td>\n      <td>2</td>\n      <td>Tracey</td>\n      <td>Barrett</td>\n      <td>tracey.barrett@sakilacustomer.org</td>\n      <td>285</td>\n      <td>True</td>\n      <td>2006-02-14</td>\n      <td>2013-05-26 14:49:45.738</td>\n      <td>1</td>\n      <td>...</td>\n      <td>36229</td>\n      <td>85059738746</td>\n      <td>2006-02-15 09:45:30</td>\n      <td>389</td>\n      <td>Owo</td>\n      <td>69</td>\n      <td>2006-02-15 09:45:25</td>\n      <td>69</td>\n      <td>Nigeria</td>\n      <td>2006-02-15 09:44:00</td>\n    </tr>\n    <tr>\n      <th>17</th>\n      <td>250</td>\n      <td>2</td>\n      <td>Jo</td>\n      <td>Fowler</td>\n      <td>jo.fowler@sakilacustomer.org</td>\n      <td>254</td>\n      <td>True</td>\n      <td>2006-02-14</td>\n      <td>2013-05-26 14:49:45.738</td>\n      <td>1</td>\n      <td>...</td>\n      <td>98332</td>\n      <td>716256596301</td>\n      <td>2006-02-15 09:45:30</td>\n      <td>390</td>\n      <td>Oyo</td>\n      <td>69</td>\n      <td>2006-02-15 09:45:25</td>\n      <td>69</td>\n      <td>Nigeria</td>\n      <td>2006-02-15 09:44:00</td>\n    </tr>\n    <tr>\n      <th>18</th>\n      <td>571</td>\n      <td>2</td>\n      <td>Johnnie</td>\n      <td>Chisholm</td>\n      <td>johnnie.chisholm@sakilacustomer.org</td>\n      <td>577</td>\n      <td>True</td>\n      <td>2006-02-14</td>\n      <td>2013-05-26 14:49:45.738</td>\n      <td>1</td>\n      <td>...</td>\n      <td>943</td>\n      <td>770864062795</td>\n      <td>2006-02-15 09:45:30</td>\n      <td>409</td>\n      <td>Plock</td>\n      <td>76</td>\n      <td>2006-02-15 09:45:25</td>\n      <td>76</td>\n      <td>Poland</td>\n      <td>2006-02-15 09:44:00</td>\n    </tr>\n    <tr>\n      <th>19</th>\n      <td>562</td>\n      <td>1</td>\n      <td>Wallace</td>\n      <td>Slone</td>\n      <td>wallace.slone@sakilacustomer.org</td>\n      <td>568</td>\n      <td>True</td>\n      <td>2006-02-14</td>\n      <td>2013-05-26 14:49:45.738</td>\n      <td>1</td>\n      <td>...</td>\n      <td>93655</td>\n      <td>946114054231</td>\n      <td>2006-02-15 09:45:30</td>\n      <td>488</td>\n      <td>Sokoto</td>\n      <td>69</td>\n      <td>2006-02-15 09:45:25</td>\n      <td>69</td>\n      <td>Nigeria</td>\n      <td>2006-02-15 09:44:00</td>\n    </tr>\n    <tr>\n      <th>20</th>\n      <td>21</td>\n      <td>1</td>\n      <td>Michelle</td>\n      <td>Clark</td>\n      <td>michelle.clark@sakilacustomer.org</td>\n      <td>25</td>\n      <td>True</td>\n      <td>2006-02-14</td>\n      <td>2013-05-26 14:49:45.738</td>\n      <td>1</td>\n      <td>...</td>\n      <td>34418</td>\n      <td>892775750063</td>\n      <td>2006-02-15 09:45:30</td>\n      <td>525</td>\n      <td>Tangail</td>\n      <td>12</td>\n      <td>2006-02-15 09:45:25</td>\n      <td>12</td>\n      <td>Bangladesh</td>\n      <td>2006-02-15 09:44:00</td>\n    </tr>\n    <tr>\n      <th>21</th>\n      <td>380</td>\n      <td>1</td>\n      <td>Russell</td>\n      <td>Brinson</td>\n      <td>russell.brinson@sakilacustomer.org</td>\n      <td>385</td>\n      <td>True</td>\n      <td>2006-02-14</td>\n      <td>2013-05-26 14:49:45.738</td>\n      <td>1</td>\n      <td>...</td>\n      <td>75442</td>\n      <td>821476736117</td>\n      <td>2006-02-15 09:45:30</td>\n      <td>549</td>\n      <td>Tychy</td>\n      <td>76</td>\n      <td>2006-02-15 09:45:25</td>\n      <td>76</td>\n      <td>Poland</td>\n      <td>2006-02-15 09:44:00</td>\n    </tr>\n    <tr>\n      <th>22</th>\n      <td>558</td>\n      <td>1</td>\n      <td>Jimmie</td>\n      <td>Eggleston</td>\n      <td>jimmie.eggleston@sakilacustomer.org</td>\n      <td>564</td>\n      <td>True</td>\n      <td>2006-02-14</td>\n      <td>2013-05-26 14:49:45.738</td>\n      <td>0</td>\n      <td>...</td>\n      <td>97271</td>\n      <td>970638808606</td>\n      <td>2006-02-15 09:45:30</td>\n      <td>577</td>\n      <td>Wroclaw</td>\n      <td>76</td>\n      <td>2006-02-15 09:45:25</td>\n      <td>76</td>\n      <td>Poland</td>\n      <td>2006-02-15 09:44:00</td>\n    </tr>\n    <tr>\n      <th>23</th>\n      <td>232</td>\n      <td>2</td>\n      <td>Constance</td>\n      <td>Reid</td>\n      <td>constance.reid@sakilacustomer.org</td>\n      <td>236</td>\n      <td>True</td>\n      <td>2006-02-14</td>\n      <td>2013-05-26 14:49:45.738</td>\n      <td>1</td>\n      <td>...</td>\n      <td>31390</td>\n      <td>588964509072</td>\n      <td>2006-02-15 09:45:30</td>\n      <td>596</td>\n      <td>Zaria</td>\n      <td>69</td>\n      <td>2006-02-15 09:45:25</td>\n      <td>69</td>\n      <td>Nigeria</td>\n      <td>2006-02-15 09:44:00</td>\n    </tr>\n  </tbody>\n</table>\n<p>24 rows × 25 columns</p>\n</div>"
     },
     "execution_count": 28,
     "metadata": {},
     "output_type": "execute_result"
    }
   ],
   "source": [
    "str7 = \"\"\"\n",
    "select\n",
    "\n",
    "*\n",
    "\n",
    "from\n",
    "\n",
    "customer\n",
    "\n",
    "inner join address\n",
    "on customer.address_id = address.address_id\n",
    "\n",
    "inner join city\n",
    "on address.city_id = city.city_id\n",
    "\n",
    "inner join country\n",
    "on city.country_id = country.country_id\n",
    "\n",
    "where country.country = 'Poland'\n",
    "or country.country = 'Nigeria'\n",
    "or country.country = 'Bangladesh'\n",
    "\n",
    "\"\"\"\n",
    "\n",
    "pd.read_sql(str7, connection)"
   ],
   "metadata": {
    "collapsed": false,
    "pycharm": {
     "name": "#%%\n"
    }
   }
  },
  {
   "cell_type": "markdown",
   "source": [
    "8.Gdzie mieszkają członkowie personelu?"
   ],
   "metadata": {
    "collapsed": false,
    "pycharm": {
     "name": "#%% md\n"
    }
   }
  },
  {
   "cell_type": "code",
   "execution_count": 28,
   "outputs": [],
   "source": [],
   "metadata": {
    "collapsed": false,
    "pycharm": {
     "name": "#%%\n"
    }
   }
  },
  {
   "cell_type": "code",
   "execution_count": 29,
   "outputs": [
    {
     "data": {
      "text/plain": "  first_name last_name               address address2        city    country\n0       Mike   Hillyer     23 Workhaven Lane     None  Lethbridge     Canada\n1        Jon  Stephens  1411 Lillydale Drive     None   Woodridge  Australia",
      "text/html": "<div>\n<style scoped>\n    .dataframe tbody tr th:only-of-type {\n        vertical-align: middle;\n    }\n\n    .dataframe tbody tr th {\n        vertical-align: top;\n    }\n\n    .dataframe thead th {\n        text-align: right;\n    }\n</style>\n<table border=\"1\" class=\"dataframe\">\n  <thead>\n    <tr style=\"text-align: right;\">\n      <th></th>\n      <th>first_name</th>\n      <th>last_name</th>\n      <th>address</th>\n      <th>address2</th>\n      <th>city</th>\n      <th>country</th>\n    </tr>\n  </thead>\n  <tbody>\n    <tr>\n      <th>0</th>\n      <td>Mike</td>\n      <td>Hillyer</td>\n      <td>23 Workhaven Lane</td>\n      <td>None</td>\n      <td>Lethbridge</td>\n      <td>Canada</td>\n    </tr>\n    <tr>\n      <th>1</th>\n      <td>Jon</td>\n      <td>Stephens</td>\n      <td>1411 Lillydale Drive</td>\n      <td>None</td>\n      <td>Woodridge</td>\n      <td>Australia</td>\n    </tr>\n  </tbody>\n</table>\n</div>"
     },
     "execution_count": 29,
     "metadata": {},
     "output_type": "execute_result"
    }
   ],
   "source": [
    "str8 = \"\"\"\n",
    "select\n",
    "staff.first_name,\n",
    "staff.last_name,\n",
    "address.address,\n",
    "address.address2,\n",
    "city.city,\n",
    "country.country\n",
    "\n",
    "from\n",
    "staff\n",
    "\n",
    "inner join address\n",
    "on staff.address_id = address.address_id\n",
    "\n",
    "inner join city\n",
    "on address.city_id = city.city_id\n",
    "\n",
    "inner join country\n",
    "on city.country_id = country.country_id\n",
    "\"\"\"\n",
    "\n",
    "pd.read_sql(str8, connection)"
   ],
   "metadata": {
    "collapsed": false,
    "pycharm": {
     "name": "#%%\n"
    }
   }
  },
  {
   "cell_type": "markdown",
   "source": [
    "9.Ilu pracowników mieszka w Argentynie lub Hiszpanii?"
   ],
   "metadata": {
    "collapsed": false,
    "pycharm": {
     "name": "#%% md\n"
    }
   }
  },
  {
   "cell_type": "code",
   "execution_count": 30,
   "outputs": [
    {
     "data": {
      "text/plain": "   count\n0      0",
      "text/html": "<div>\n<style scoped>\n    .dataframe tbody tr th:only-of-type {\n        vertical-align: middle;\n    }\n\n    .dataframe tbody tr th {\n        vertical-align: top;\n    }\n\n    .dataframe thead th {\n        text-align: right;\n    }\n</style>\n<table border=\"1\" class=\"dataframe\">\n  <thead>\n    <tr style=\"text-align: right;\">\n      <th></th>\n      <th>count</th>\n    </tr>\n  </thead>\n  <tbody>\n    <tr>\n      <th>0</th>\n      <td>0</td>\n    </tr>\n  </tbody>\n</table>\n</div>"
     },
     "execution_count": 30,
     "metadata": {},
     "output_type": "execute_result"
    }
   ],
   "source": [
    "str9 = \"\"\"\n",
    "select\n",
    "count(staff_id)\n",
    "\n",
    "from\n",
    "staff\n",
    "\n",
    "inner join address\n",
    "on staff.address_id = address.address_id\n",
    "\n",
    "inner join city\n",
    "on address.city_id = city.city_id\n",
    "\n",
    "inner join country\n",
    "on city.country_id = country.country_id\n",
    "where country.country = 'Argentina'\n",
    "or country.country = 'Spain'\n",
    "\n",
    "\"\"\"\n",
    "\n",
    "pd.read_sql(str9, connection)"
   ],
   "metadata": {
    "collapsed": false,
    "pycharm": {
     "name": "#%%\n"
    }
   }
  },
  {
   "cell_type": "markdown",
   "source": [
    "10.Jakie kategorie filmów zostały wypożyczone przez klientów?"
   ],
   "metadata": {
    "collapsed": false,
    "pycharm": {
     "name": "#%% md\n"
    }
   }
  },
  {
   "cell_type": "code",
   "execution_count": 31,
   "outputs": [
    {
     "data": {
      "text/plain": "       name                title\n0    Action         Amadeus Holy\n1    Action      American Circus\n2    Action   Antitrust Tomatoes\n3    Action  Barefoot Manchurian\n4    Action         Berets Agent\n..      ...                  ...\n953  Travel  Valentine Vanishing\n954  Travel          Window Side\n955  Travel        Wolves Desire\n956  Travel        Worker Tarzan\n957  Travel  Working Microcosmos\n\n[958 rows x 2 columns]",
      "text/html": "<div>\n<style scoped>\n    .dataframe tbody tr th:only-of-type {\n        vertical-align: middle;\n    }\n\n    .dataframe tbody tr th {\n        vertical-align: top;\n    }\n\n    .dataframe thead th {\n        text-align: right;\n    }\n</style>\n<table border=\"1\" class=\"dataframe\">\n  <thead>\n    <tr style=\"text-align: right;\">\n      <th></th>\n      <th>name</th>\n      <th>title</th>\n    </tr>\n  </thead>\n  <tbody>\n    <tr>\n      <th>0</th>\n      <td>Action</td>\n      <td>Amadeus Holy</td>\n    </tr>\n    <tr>\n      <th>1</th>\n      <td>Action</td>\n      <td>American Circus</td>\n    </tr>\n    <tr>\n      <th>2</th>\n      <td>Action</td>\n      <td>Antitrust Tomatoes</td>\n    </tr>\n    <tr>\n      <th>3</th>\n      <td>Action</td>\n      <td>Barefoot Manchurian</td>\n    </tr>\n    <tr>\n      <th>4</th>\n      <td>Action</td>\n      <td>Berets Agent</td>\n    </tr>\n    <tr>\n      <th>...</th>\n      <td>...</td>\n      <td>...</td>\n    </tr>\n    <tr>\n      <th>953</th>\n      <td>Travel</td>\n      <td>Valentine Vanishing</td>\n    </tr>\n    <tr>\n      <th>954</th>\n      <td>Travel</td>\n      <td>Window Side</td>\n    </tr>\n    <tr>\n      <th>955</th>\n      <td>Travel</td>\n      <td>Wolves Desire</td>\n    </tr>\n    <tr>\n      <th>956</th>\n      <td>Travel</td>\n      <td>Worker Tarzan</td>\n    </tr>\n    <tr>\n      <th>957</th>\n      <td>Travel</td>\n      <td>Working Microcosmos</td>\n    </tr>\n  </tbody>\n</table>\n<p>958 rows × 2 columns</p>\n</div>"
     },
     "execution_count": 31,
     "metadata": {},
     "output_type": "execute_result"
    }
   ],
   "source": [
    "str10 = \"\"\"\n",
    "select\n",
    "distinct category.name,\n",
    "film.title\n",
    "\n",
    "from\n",
    "customer\n",
    "\n",
    "inner join rental\n",
    "on customer.customer_id = rental.customer_id\n",
    "\n",
    "inner join inventory\n",
    "on rental.inventory_id = inventory.inventory_id\n",
    "\n",
    "inner join film\n",
    "on inventory.film_id = film.film_id\n",
    "\n",
    "inner join film_category\n",
    "on film.film_id = film_category.film_id\n",
    "\n",
    "inner join category\n",
    "on film_category.category_id = category.category_id\n",
    "\"\"\"\n",
    "\n",
    "pd.read_sql(str10, connection)"
   ],
   "metadata": {
    "collapsed": false,
    "pycharm": {
     "name": "#%%\n"
    }
   }
  },
  {
   "cell_type": "markdown",
   "source": [
    "11.Znajdź wszystkie kategorie filmów wypożyczonych w Ameryce."
   ],
   "metadata": {
    "collapsed": false,
    "pycharm": {
     "name": "#%% md\n"
    }
   }
  },
  {
   "cell_type": "code",
   "execution_count": 32,
   "outputs": [
    {
     "data": {
      "text/plain": "     country_id               country         last_update\n0             1           Afghanistan 2006-02-15 09:44:00\n1             2               Algeria 2006-02-15 09:44:00\n2             3        American Samoa 2006-02-15 09:44:00\n3             4                Angola 2006-02-15 09:44:00\n4             5              Anguilla 2006-02-15 09:44:00\n..          ...                   ...                 ...\n104         105               Vietnam 2006-02-15 09:44:00\n105         106  Virgin Islands, U.S. 2006-02-15 09:44:00\n106         107                 Yemen 2006-02-15 09:44:00\n107         108            Yugoslavia 2006-02-15 09:44:00\n108         109                Zambia 2006-02-15 09:44:00\n\n[109 rows x 3 columns]",
      "text/html": "<div>\n<style scoped>\n    .dataframe tbody tr th:only-of-type {\n        vertical-align: middle;\n    }\n\n    .dataframe tbody tr th {\n        vertical-align: top;\n    }\n\n    .dataframe thead th {\n        text-align: right;\n    }\n</style>\n<table border=\"1\" class=\"dataframe\">\n  <thead>\n    <tr style=\"text-align: right;\">\n      <th></th>\n      <th>country_id</th>\n      <th>country</th>\n      <th>last_update</th>\n    </tr>\n  </thead>\n  <tbody>\n    <tr>\n      <th>0</th>\n      <td>1</td>\n      <td>Afghanistan</td>\n      <td>2006-02-15 09:44:00</td>\n    </tr>\n    <tr>\n      <th>1</th>\n      <td>2</td>\n      <td>Algeria</td>\n      <td>2006-02-15 09:44:00</td>\n    </tr>\n    <tr>\n      <th>2</th>\n      <td>3</td>\n      <td>American Samoa</td>\n      <td>2006-02-15 09:44:00</td>\n    </tr>\n    <tr>\n      <th>3</th>\n      <td>4</td>\n      <td>Angola</td>\n      <td>2006-02-15 09:44:00</td>\n    </tr>\n    <tr>\n      <th>4</th>\n      <td>5</td>\n      <td>Anguilla</td>\n      <td>2006-02-15 09:44:00</td>\n    </tr>\n    <tr>\n      <th>...</th>\n      <td>...</td>\n      <td>...</td>\n      <td>...</td>\n    </tr>\n    <tr>\n      <th>104</th>\n      <td>105</td>\n      <td>Vietnam</td>\n      <td>2006-02-15 09:44:00</td>\n    </tr>\n    <tr>\n      <th>105</th>\n      <td>106</td>\n      <td>Virgin Islands, U.S.</td>\n      <td>2006-02-15 09:44:00</td>\n    </tr>\n    <tr>\n      <th>106</th>\n      <td>107</td>\n      <td>Yemen</td>\n      <td>2006-02-15 09:44:00</td>\n    </tr>\n    <tr>\n      <th>107</th>\n      <td>108</td>\n      <td>Yugoslavia</td>\n      <td>2006-02-15 09:44:00</td>\n    </tr>\n    <tr>\n      <th>108</th>\n      <td>109</td>\n      <td>Zambia</td>\n      <td>2006-02-15 09:44:00</td>\n    </tr>\n  </tbody>\n</table>\n<p>109 rows × 3 columns</p>\n</div>"
     },
     "execution_count": 32,
     "metadata": {},
     "output_type": "execute_result"
    }
   ],
   "source": [
    "test = \"\"\"\n",
    "select\n",
    "*\n",
    "from\n",
    "country\n",
    "\"\"\"\n",
    "pd.read_sql(test, connection)\n"
   ],
   "metadata": {
    "collapsed": false,
    "pycharm": {
     "name": "#%%\n"
    }
   }
  },
  {
   "cell_type": "code",
   "execution_count": 33,
   "outputs": [
    {
     "data": {
      "text/plain": "                 title      name\n0           Swarm Gold    Horror\n1      Musketeers Wait  Classics\n2        Submarine Bed    Comedy\n3         Purple Movie   Foreign\n4      Armageddon Lost    Sci-Fi\n..                 ...       ...\n963  Strictly Scarface    Comedy\n964    Airport Pollock    Horror\n965      Orient Closer     Drama\n966     Sting Personal       New\n967  Comancheros Enemy  Children\n\n[968 rows x 2 columns]",
      "text/html": "<div>\n<style scoped>\n    .dataframe tbody tr th:only-of-type {\n        vertical-align: middle;\n    }\n\n    .dataframe tbody tr th {\n        vertical-align: top;\n    }\n\n    .dataframe thead th {\n        text-align: right;\n    }\n</style>\n<table border=\"1\" class=\"dataframe\">\n  <thead>\n    <tr style=\"text-align: right;\">\n      <th></th>\n      <th>title</th>\n      <th>name</th>\n    </tr>\n  </thead>\n  <tbody>\n    <tr>\n      <th>0</th>\n      <td>Swarm Gold</td>\n      <td>Horror</td>\n    </tr>\n    <tr>\n      <th>1</th>\n      <td>Musketeers Wait</td>\n      <td>Classics</td>\n    </tr>\n    <tr>\n      <th>2</th>\n      <td>Submarine Bed</td>\n      <td>Comedy</td>\n    </tr>\n    <tr>\n      <th>3</th>\n      <td>Purple Movie</td>\n      <td>Foreign</td>\n    </tr>\n    <tr>\n      <th>4</th>\n      <td>Armageddon Lost</td>\n      <td>Sci-Fi</td>\n    </tr>\n    <tr>\n      <th>...</th>\n      <td>...</td>\n      <td>...</td>\n    </tr>\n    <tr>\n      <th>963</th>\n      <td>Strictly Scarface</td>\n      <td>Comedy</td>\n    </tr>\n    <tr>\n      <th>964</th>\n      <td>Airport Pollock</td>\n      <td>Horror</td>\n    </tr>\n    <tr>\n      <th>965</th>\n      <td>Orient Closer</td>\n      <td>Drama</td>\n    </tr>\n    <tr>\n      <th>966</th>\n      <td>Sting Personal</td>\n      <td>New</td>\n    </tr>\n    <tr>\n      <th>967</th>\n      <td>Comancheros Enemy</td>\n      <td>Children</td>\n    </tr>\n  </tbody>\n</table>\n<p>968 rows × 2 columns</p>\n</div>"
     },
     "execution_count": 33,
     "metadata": {},
     "output_type": "execute_result"
    }
   ],
   "source": [
    "str11 = \"\"\"\n",
    "select\n",
    "film.title,\n",
    "category.name\n",
    "\n",
    "from\n",
    "customer\n",
    "\n",
    "inner join rental\n",
    "on customer.customer_id = rental.customer_id\n",
    "\n",
    "inner join inventory\n",
    "on rental.inventory_id = inventory.inventory_id\n",
    "\n",
    "inner join film\n",
    "on inventory.film_id = film.film_id\n",
    "\n",
    "inner join film_category\n",
    "on film.film_id = film_category.film_id\n",
    "\n",
    "inner join category\n",
    "on film_category.category_id = category.category_id\n",
    "\n",
    "inner join address\n",
    "on customer.address_id = address.address_id\n",
    "\n",
    "inner join city\n",
    "on address.city_id = city.city_id\n",
    "\n",
    "inner join country\n",
    "on city.country_id = country.country_id\n",
    "\n",
    "where country.country = 'United States'\n",
    "\"\"\"\n",
    "\n",
    "pd.read_sql(str11, connection)"
   ],
   "metadata": {
    "collapsed": false,
    "pycharm": {
     "name": "#%%\n"
    }
   }
  },
  {
   "cell_type": "markdown",
   "source": [
    "12.Znajdź wszystkie tytuły filmów, w których grał: Olympia Pfeiffer lub Julia Zellweger lub Ellen Presley"
   ],
   "metadata": {
    "collapsed": false,
    "pycharm": {
     "name": "#%% md\n"
    }
   }
  },
  {
   "cell_type": "code",
   "execution_count": 34,
   "outputs": [
    {
     "data": {
      "text/plain": "                     title first_name  last_name\n0          Idols Snatchers    Olympia   Pfeiffer\n1        Contact Anonymous    Olympia   Pfeiffer\n2          Hollow Jeopardy      Julia  Zellweger\n3               Wait Cider    Olympia   Pfeiffer\n4     Microcosmos Paradise      Ellen    Presley\n...                    ...        ...        ...\n1078       Idols Snatchers    Olympia   Pfeiffer\n1079      Murder Antitrust    Olympia   Pfeiffer\n1080       Pinocchio Simon      Ellen    Presley\n1081    Color Philadelphia    Olympia   Pfeiffer\n1082  Microcosmos Paradise      Ellen    Presley\n\n[1083 rows x 3 columns]",
      "text/html": "<div>\n<style scoped>\n    .dataframe tbody tr th:only-of-type {\n        vertical-align: middle;\n    }\n\n    .dataframe tbody tr th {\n        vertical-align: top;\n    }\n\n    .dataframe thead th {\n        text-align: right;\n    }\n</style>\n<table border=\"1\" class=\"dataframe\">\n  <thead>\n    <tr style=\"text-align: right;\">\n      <th></th>\n      <th>title</th>\n      <th>first_name</th>\n      <th>last_name</th>\n    </tr>\n  </thead>\n  <tbody>\n    <tr>\n      <th>0</th>\n      <td>Idols Snatchers</td>\n      <td>Olympia</td>\n      <td>Pfeiffer</td>\n    </tr>\n    <tr>\n      <th>1</th>\n      <td>Contact Anonymous</td>\n      <td>Olympia</td>\n      <td>Pfeiffer</td>\n    </tr>\n    <tr>\n      <th>2</th>\n      <td>Hollow Jeopardy</td>\n      <td>Julia</td>\n      <td>Zellweger</td>\n    </tr>\n    <tr>\n      <th>3</th>\n      <td>Wait Cider</td>\n      <td>Olympia</td>\n      <td>Pfeiffer</td>\n    </tr>\n    <tr>\n      <th>4</th>\n      <td>Microcosmos Paradise</td>\n      <td>Ellen</td>\n      <td>Presley</td>\n    </tr>\n    <tr>\n      <th>...</th>\n      <td>...</td>\n      <td>...</td>\n      <td>...</td>\n    </tr>\n    <tr>\n      <th>1078</th>\n      <td>Idols Snatchers</td>\n      <td>Olympia</td>\n      <td>Pfeiffer</td>\n    </tr>\n    <tr>\n      <th>1079</th>\n      <td>Murder Antitrust</td>\n      <td>Olympia</td>\n      <td>Pfeiffer</td>\n    </tr>\n    <tr>\n      <th>1080</th>\n      <td>Pinocchio Simon</td>\n      <td>Ellen</td>\n      <td>Presley</td>\n    </tr>\n    <tr>\n      <th>1081</th>\n      <td>Color Philadelphia</td>\n      <td>Olympia</td>\n      <td>Pfeiffer</td>\n    </tr>\n    <tr>\n      <th>1082</th>\n      <td>Microcosmos Paradise</td>\n      <td>Ellen</td>\n      <td>Presley</td>\n    </tr>\n  </tbody>\n</table>\n<p>1083 rows × 3 columns</p>\n</div>"
     },
     "execution_count": 34,
     "metadata": {},
     "output_type": "execute_result"
    }
   ],
   "source": [
    "str12 = \"\"\"\n",
    "select\n",
    "film.title,\n",
    "actor.first_name,\n",
    "actor.last_name\n",
    "\n",
    "from\n",
    "customer\n",
    "\n",
    "inner join rental\n",
    "on customer.customer_id = rental.customer_id\n",
    "\n",
    "inner join inventory\n",
    "on rental.inventory_id = inventory.inventory_id\n",
    "\n",
    "inner join film\n",
    "on inventory.film_id = film.film_id\n",
    "\n",
    "inner join film_actor\n",
    "on film.film_id = film_actor.film_id\n",
    "\n",
    "inner join actor\n",
    "on film_actor.actor_id = actor.actor_id\n",
    "\n",
    "where\n",
    "(actor.first_name = 'Olympia' and actor.last_name = 'Pfeiffer')\n",
    "or (actor.first_name = 'Julia' and actor.last_name = 'Zellweger')\n",
    "or (actor.first_name = 'Ellen' and actor.last_name = 'Presley')\n",
    "\n",
    "\"\"\"\n",
    "\n",
    "\n",
    "pd.read_sql(str12, connection)"
   ],
   "metadata": {
    "collapsed": false,
    "pycharm": {
     "name": "#%%\n"
    }
   }
  },
  {
   "cell_type": "code",
   "execution_count": 34,
   "outputs": [],
   "source": [],
   "metadata": {
    "collapsed": false,
    "pycharm": {
     "name": "#%%\n"
    }
   }
  }
 ],
 "metadata": {
  "kernelspec": {
   "display_name": "Python 3",
   "language": "python",
   "name": "python3"
  },
  "language_info": {
   "codemirror_mode": {
    "name": "ipython",
    "version": 2
   },
   "file_extension": ".py",
   "mimetype": "text/x-python",
   "name": "python",
   "nbconvert_exporter": "python",
   "pygments_lexer": "ipython2",
   "version": "2.7.6"
  }
 },
 "nbformat": 4,
 "nbformat_minor": 0
}