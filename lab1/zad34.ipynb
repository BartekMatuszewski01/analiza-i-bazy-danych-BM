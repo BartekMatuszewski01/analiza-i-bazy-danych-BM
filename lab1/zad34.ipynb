{
 "cells": [
  {
   "cell_type": "markdown",
   "metadata": {
    "pycharm": {
     "name": "#%% md\n"
    }
   },
   "source": [
    "Bartłomiej Matuszewski\n",
    "\n",
    "zadanie3: \n",
    "Zdefiniuj poniższą funkcję i sporządź jej wykres dla argumentów z danego przedziału:\n",
    "\n",
    "Wspierając się dokumentacją Matplotlib. Dodaj do wykresu etykiety osi, tytuły wykresów i legendy.\n",
    "\n",
    "Wskazówki: Deklaracja funkcji w Python.\n",
    "\n",
    "W Pythonie bloki kodu (w tym również funkcje) są wyróżniane za pomocą wcięć. Do wizualizacji wyników w Pythonie używa się pakietu Matplotlib.\n",
    "\n",
    "W pliku mają być zawarte: imię, nazwisko, opis wykonywanego ćwiczenia - formatowanie markdown w poszczególnych komórkach.\n"
   ]
  },
  {
   "cell_type": "code",
   "execution_count": 2,
   "metadata": {
    "pycharm": {
     "name": "#%%\n"
    }
   },
   "outputs": [],
   "source": [
    "import matplotlib.pyplot as plt\n",
    "import numpy as np\n",
    "import pandas as pd"
   ]
  },
  {
   "cell_type": "code",
   "execution_count": 3,
   "metadata": {
    "pycharm": {
     "name": "#%%\n"
    }
   },
   "outputs": [
    {
     "data": {
      "text/plain": [
       "30"
      ]
     },
     "execution_count": 3,
     "metadata": {},
     "output_type": "execute_result"
    }
   ],
   "source": [
    "def fun1(x):\n",
    "    return x**2 + 5\n",
    "\n",
    "fun1(5)"
   ]
  },
  {
   "cell_type": "markdown",
   "metadata": {
    "pycharm": {
     "name": "#%% md\n"
    }
   },
   "source": [
    "-1 < x < 1"
   ]
  },
  {
   "cell_type": "code",
   "execution_count": 4,
   "metadata": {
    "pycharm": {
     "name": "#%%\n"
    }
   },
   "outputs": [
    {
     "data": {
      "image/png": "[encoded data removed]",
      "text/plain": [
       "<Figure size 432x288 with 1 Axes>"
      ]
     },
     "metadata": {
      "needs_background": "light"
     },
     "output_type": "display_data"
    }
   ],
   "source": [
    "args_x_1 = np.arange(-1, 1, 0.2)\n",
    "args_x_1\n",
    "\n",
    "plt.plot(args_x_1, fun1(args_x_1))\n",
    "plt.title(label=\"Od -1 do 1, krok 0.2\")\n",
    "plt.xlabel(\"argumenty\")\n",
    "plt.ylabel(\"y = f(x), gdzie f(x) = x^2 + 5\")\n",
    "plt.show()"
   ]
  },
  {
   "cell_type": "markdown",
   "metadata": {
    "pycharm": {
     "name": "#%% md\n"
    }
   },
   "source": [
    "-6 < x < 6"
   ]
  },
  {
   "cell_type": "code",
   "execution_count": 3,
   "metadata": {
    "pycharm": {
     "name": "#%%\n"
    }
   },
   "outputs": [
    {
     "ename": "NameError",
     "evalue": "name 'np' is not defined",
     "output_type": "error",
     "traceback": [
      "\u001B[1;31m---------------------------------------------------------------------------\u001B[0m",
      "\u001B[1;31mNameError\u001B[0m                                 Traceback (most recent call last)",
      "Input \u001B[1;32mIn [3]\u001B[0m, in \u001B[0;36m<cell line: 1>\u001B[1;34m()\u001B[0m\n\u001B[1;32m----> 1\u001B[0m args_x_2 \u001B[38;5;241m=\u001B[39m \u001B[43mnp\u001B[49m\u001B[38;5;241m.\u001B[39marange(\u001B[38;5;241m-\u001B[39m\u001B[38;5;241m6\u001B[39m, \u001B[38;5;241m6\u001B[39m, \u001B[38;5;241m0.2\u001B[39m)\n\u001B[0;32m      2\u001B[0m args_x_2\n\u001B[0;32m      4\u001B[0m plt\u001B[38;5;241m.\u001B[39mplot(args_x_2, fun1(args_x_2))\n",
      "\u001B[1;31mNameError\u001B[0m: name 'np' is not defined"
     ]
    }
   ],
   "source": [
    "args_x_2 = np.arange(-6, 6, 0.2)\n",
    "args_x_2\n",
    "\n",
    "plt.plot(args_x_2, fun1(args_x_2))\n",
    "plt.title(label=\"Od -6 do 6, krok 0.2\")\n",
    "plt.xlabel(\"argumenty\")\n",
    "plt.ylabel(\"y = f(x), gdzie f(x) = x^2 + 5\")\n",
    "plt.show()\n"
   ]
  },
  {
   "cell_type": "markdown",
   "metadata": {
    "pycharm": {
     "name": "#%% md\n"
    }
   },
   "source": [
    "0 < x < 5\n"
   ]
  },
  {
   "cell_type": "code",
   "execution_count": 4,
   "metadata": {
    "pycharm": {
     "name": "#%%\n"
    }
   },
   "outputs": [
    {
     "ename": "NameError",
     "evalue": "name 'np' is not defined",
     "output_type": "error",
     "traceback": [
      "\u001B[1;31m---------------------------------------------------------------------------\u001B[0m",
      "\u001B[1;31mNameError\u001B[0m                                 Traceback (most recent call last)",
      "Input \u001B[1;32mIn [4]\u001B[0m, in \u001B[0;36m<cell line: 1>\u001B[1;34m()\u001B[0m\n\u001B[1;32m----> 1\u001B[0m args_x_3 \u001B[38;5;241m=\u001B[39m \u001B[43mnp\u001B[49m\u001B[38;5;241m.\u001B[39marange(\u001B[38;5;241m0\u001B[39m, \u001B[38;5;241m5\u001B[39m, \u001B[38;5;241m0.2\u001B[39m)\n\u001B[0;32m      2\u001B[0m args_x_3\n\u001B[0;32m      4\u001B[0m plt\u001B[38;5;241m.\u001B[39mplot(args_x_3, fun1(args_x_3))\n",
      "\u001B[1;31mNameError\u001B[0m: name 'np' is not defined"
     ]
    }
   ],
   "source": [
    "args_x_3 = np.arange(0, 5, 0.2)\n",
    "args_x_3\n",
    "\n",
    "plt.plot(args_x_3, fun1(args_x_3))\n",
    "plt.title(label=\"Od 0 do 5, krok 0.2\")\n",
    "plt.xlabel(\"argumenty\")\n",
    "plt.ylabel(\"y = f(x), gdzie f(x) = x^2 + 5\")\n",
    "plt.show()"
   ]
  },
  {
   "cell_type": "markdown",
   "metadata": {
    "pycharm": {
     "name": "#%% md\n"
    }
   },
   "source": [
    "zadanie 4 \n",
    "Utwórz dataframe, w którym kolumny mają nazwy: name, surname, age, sex. Uzupełnij pięcioma dowolnymi rekordami oraz wyświetl informacje o danych pandas .info(), opis danych pandas .describe(), wyświetl pierwsze trzy rekordy pandas .head().\n",
    "\n",
    "Plik z rozwiązaniem zadania 3 i zadania 4 opatrzonym komentarzami, dodaj do kursu na upel.agh.edu.pl"
   ]
  },
  {
   "cell_type": "code",
   "execution_count": 12,
   "metadata": {
    "pycharm": {
     "name": "#%%\n"
    }
   },
   "outputs": [
    {
     "name": "stdout",
     "output_type": "stream",
     "text": [
      "<class 'pandas.core.frame.DataFrame'>\n",
      "Int64Index: 5 entries, 0 to 4\n",
      "Data columns (total 4 columns):\n",
      " #   Column   Non-Null Count  Dtype \n",
      "---  ------   --------------  ----- \n",
      " 0   name     5 non-null      object\n",
      " 1   surname  5 non-null      object\n",
      " 2   age      5 non-null      int64 \n",
      " 3   sex      5 non-null      object\n",
      "dtypes: int64(1), object(3)\n",
      "memory usage: 200.0+ bytes\n"
     ]
    },
    {
     "data": {
      "text/html": [
       "<div>\n",
       "<style scoped>\n",
       "    .dataframe tbody tr th:only-of-type {\n",
       "        vertical-align: middle;\n",
       "    }\n",
       "\n",
       "    .dataframe tbody tr th {\n",
       "        vertical-align: top;\n",
       "    }\n",
       "\n",
       "    .dataframe thead th {\n",
       "        text-align: right;\n",
       "    }\n",
       "</style>\n",
       "<table border=\"1\" class=\"dataframe\">\n",
       "  <thead>\n",
       "    <tr style=\"text-align: right;\">\n",
       "      <th></th>\n",
       "      <th>name</th>\n",
       "      <th>surname</th>\n",
       "      <th>age</th>\n",
       "      <th>sex</th>\n",
       "    </tr>\n",
       "  </thead>\n",
       "  <tbody>\n",
       "    <tr>\n",
       "      <th>0</th>\n",
       "      <td>Alfons</td>\n",
       "      <td>Fiat</td>\n",
       "      <td>56</td>\n",
       "      <td>male</td>\n",
       "    </tr>\n",
       "    <tr>\n",
       "      <th>1</th>\n",
       "      <td>Jarosław</td>\n",
       "      <td>Kaczor</td>\n",
       "      <td>250</td>\n",
       "      <td>karakan</td>\n",
       "    </tr>\n",
       "    <tr>\n",
       "      <th>2</th>\n",
       "      <td>Agata</td>\n",
       "      <td>Nowak</td>\n",
       "      <td>20</td>\n",
       "      <td>female</td>\n",
       "    </tr>\n",
       "    <tr>\n",
       "      <th>3</th>\n",
       "      <td>Jan</td>\n",
       "      <td>Kowalski</td>\n",
       "      <td>45</td>\n",
       "      <td>male</td>\n",
       "    </tr>\n",
       "    <tr>\n",
       "      <th>4</th>\n",
       "      <td>Mateusz</td>\n",
       "      <td>Nowakowski</td>\n",
       "      <td>78</td>\n",
       "      <td>male</td>\n",
       "    </tr>\n",
       "  </tbody>\n",
       "</table>\n",
       "</div>"
      ],
      "text/plain": [
       "       name     surname  age      sex\n",
       "0    Alfons        Fiat   56     male\n",
       "1  Jarosław      Kaczor  250  karakan\n",
       "2     Agata       Nowak   20   female\n",
       "3       Jan    Kowalski   45     male\n",
       "4   Mateusz  Nowakowski   78     male"
      ]
     },
     "execution_count": 12,
     "metadata": {},
     "output_type": "execute_result"
    }
   ],
   "source": [
    "from pydoc import describe\n",
    "\n",
    "\n",
    "data = {\n",
    "    \"name\" : [],\n",
    "    \"surname\" : [],\n",
    "    \"age\" : [],\n",
    "    \"sex\" : []\n",
    "}\n",
    "\n",
    "df = pd.DataFrame(data=data)\n",
    "\n",
    "df.loc[0] = [\"Alfons\", \"Fiat\", 56, \"male\"]\n",
    "df.loc[1] = [\"Jarosław\", \"Kaczor\", 250, \"karakan\"]\n",
    "df.loc[2] = [\"Agata\", \"Nowak\", 20, \"female\"]\n",
    "df.loc[3] = [\"Jan\", \"Kowalski\", 45, \"male\"]\n",
    "df.loc[4] = [\"Mateusz\", \"Nowakowski\", 78, \"male\"]\n",
    "\n",
    "df\n",
    "df.info()\n",
    "df.describe()\n",
    "df.head()\n"
   ]
  }
 ],
 "metadata": {
  "kernelspec": {
   "display_name": "Python 3.10.5 64-bit",
   "language": "python",
   "name": "python3"
  },
  "language_info": {
   "codemirror_mode": {
    "name": "ipython",
    "version": 3
   },
   "file_extension": ".py",
   "mimetype": "text/x-python",
   "name": "python",
   "nbconvert_exporter": "python",
   "pygments_lexer": "ipython3",
   "version": "3.10.5"
  },
  "orig_nbformat": 4,
  "vscode": {
   "interpreter": {
    "hash": "26de051ba29f2982a8de78e945f0abaf191376122a1563185a90213a26c5da77"
   }
  }
 },
 "nbformat": 4,
 "nbformat_minor": 2
}